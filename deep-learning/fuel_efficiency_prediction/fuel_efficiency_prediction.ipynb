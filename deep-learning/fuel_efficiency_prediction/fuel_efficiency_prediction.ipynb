{
 "cells": [
  {
   "metadata": {},
   "cell_type": "markdown",
   "source": "# Fuel efficiency prediction",
   "id": "ff632b4b57397de0"
  },
  {
   "metadata": {},
   "cell_type": "markdown",
   "source": "### Data Exploration and Preprocessing",
   "id": "1be08d0cfd409465"
  },
  {
   "cell_type": "code",
   "id": "initial_id",
   "metadata": {
    "collapsed": true,
    "ExecuteTime": {
     "end_time": "2024-09-03T14:39:45.971466Z",
     "start_time": "2024-09-03T14:39:45.246404Z"
    }
   },
   "source": [
    "import pandas as pd\n",
    "from torch.utils.data import TensorDataset, DataLoader\n",
    "\n",
    "url = 'http://archive.ics.uci.edu/ml/machine-learning-databases/auto-mpg/auto-mpg.data'\n",
    "columns = ['MPG', 'Cylinders', 'Displacement', 'Horsepower', 'Weight', 'Acceleration', 'Model Year', 'Origin']\n",
    "\n",
    "df = pd.read_csv(url, sep=' ', skipinitialspace=True, comment='\\t', names=columns, na_values='?')\n",
    "\n",
    "df.sample(5)"
   ],
   "outputs": [
    {
     "data": {
      "text/plain": [
       "      MPG  Cylinders  Displacement  Horsepower  Weight  Acceleration  \\\n",
       "86   14.0          8         304.0       150.0  3672.0          11.5   \n",
       "297  25.4          5         183.0        77.0  3530.0          20.1   \n",
       "305  28.4          4         151.0        90.0  2670.0          16.0   \n",
       "218  36.0          4          79.0        58.0  1825.0          18.6   \n",
       "125  20.0          6         198.0        95.0  3102.0          16.5   \n",
       "\n",
       "     Model Year  Origin  \n",
       "86           73       1  \n",
       "297          79       2  \n",
       "305          79       1  \n",
       "218          77       2  \n",
       "125          74       1  "
      ],
      "text/html": [
       "<div>\n",
       "<style scoped>\n",
       "    .dataframe tbody tr th:only-of-type {\n",
       "        vertical-align: middle;\n",
       "    }\n",
       "\n",
       "    .dataframe tbody tr th {\n",
       "        vertical-align: top;\n",
       "    }\n",
       "\n",
       "    .dataframe thead th {\n",
       "        text-align: right;\n",
       "    }\n",
       "</style>\n",
       "<table border=\"1\" class=\"dataframe\">\n",
       "  <thead>\n",
       "    <tr style=\"text-align: right;\">\n",
       "      <th></th>\n",
       "      <th>MPG</th>\n",
       "      <th>Cylinders</th>\n",
       "      <th>Displacement</th>\n",
       "      <th>Horsepower</th>\n",
       "      <th>Weight</th>\n",
       "      <th>Acceleration</th>\n",
       "      <th>Model Year</th>\n",
       "      <th>Origin</th>\n",
       "    </tr>\n",
       "  </thead>\n",
       "  <tbody>\n",
       "    <tr>\n",
       "      <th>86</th>\n",
       "      <td>14.0</td>\n",
       "      <td>8</td>\n",
       "      <td>304.0</td>\n",
       "      <td>150.0</td>\n",
       "      <td>3672.0</td>\n",
       "      <td>11.5</td>\n",
       "      <td>73</td>\n",
       "      <td>1</td>\n",
       "    </tr>\n",
       "    <tr>\n",
       "      <th>297</th>\n",
       "      <td>25.4</td>\n",
       "      <td>5</td>\n",
       "      <td>183.0</td>\n",
       "      <td>77.0</td>\n",
       "      <td>3530.0</td>\n",
       "      <td>20.1</td>\n",
       "      <td>79</td>\n",
       "      <td>2</td>\n",
       "    </tr>\n",
       "    <tr>\n",
       "      <th>305</th>\n",
       "      <td>28.4</td>\n",
       "      <td>4</td>\n",
       "      <td>151.0</td>\n",
       "      <td>90.0</td>\n",
       "      <td>2670.0</td>\n",
       "      <td>16.0</td>\n",
       "      <td>79</td>\n",
       "      <td>1</td>\n",
       "    </tr>\n",
       "    <tr>\n",
       "      <th>218</th>\n",
       "      <td>36.0</td>\n",
       "      <td>4</td>\n",
       "      <td>79.0</td>\n",
       "      <td>58.0</td>\n",
       "      <td>1825.0</td>\n",
       "      <td>18.6</td>\n",
       "      <td>77</td>\n",
       "      <td>2</td>\n",
       "    </tr>\n",
       "    <tr>\n",
       "      <th>125</th>\n",
       "      <td>20.0</td>\n",
       "      <td>6</td>\n",
       "      <td>198.0</td>\n",
       "      <td>95.0</td>\n",
       "      <td>3102.0</td>\n",
       "      <td>16.5</td>\n",
       "      <td>74</td>\n",
       "      <td>1</td>\n",
       "    </tr>\n",
       "  </tbody>\n",
       "</table>\n",
       "</div>"
      ]
     },
     "execution_count": 205,
     "metadata": {},
     "output_type": "execute_result"
    }
   ],
   "execution_count": 205
  },
  {
   "metadata": {
    "ExecuteTime": {
     "end_time": "2024-09-03T14:39:46.017952Z",
     "start_time": "2024-09-03T14:39:46.009541Z"
    }
   },
   "cell_type": "code",
   "source": [
    "# Check datatypes and nan-values\n",
    "df.info()"
   ],
   "id": "15731b34181cff4b",
   "outputs": [
    {
     "name": "stdout",
     "output_type": "stream",
     "text": [
      "<class 'pandas.core.frame.DataFrame'>\n",
      "RangeIndex: 398 entries, 0 to 397\n",
      "Data columns (total 8 columns):\n",
      " #   Column        Non-Null Count  Dtype  \n",
      "---  ------        --------------  -----  \n",
      " 0   MPG           398 non-null    float64\n",
      " 1   Cylinders     398 non-null    int64  \n",
      " 2   Displacement  398 non-null    float64\n",
      " 3   Horsepower    392 non-null    float64\n",
      " 4   Weight        398 non-null    float64\n",
      " 5   Acceleration  398 non-null    float64\n",
      " 6   Model Year    398 non-null    int64  \n",
      " 7   Origin        398 non-null    int64  \n",
      "dtypes: float64(5), int64(3)\n",
      "memory usage: 25.0 KB\n"
     ]
    }
   ],
   "execution_count": 206
  },
  {
   "metadata": {},
   "cell_type": "markdown",
   "source": "",
   "id": "e84eee37f293a631"
  },
  {
   "metadata": {},
   "cell_type": "markdown",
   "source": "There are some NaN values in `Horsepower` so we get rid of them from the dataframe:",
   "id": "cd4f76d63684c266"
  },
  {
   "metadata": {
    "ExecuteTime": {
     "end_time": "2024-09-03T14:39:46.174371Z",
     "start_time": "2024-09-03T14:39:46.169725Z"
    }
   },
   "cell_type": "code",
   "source": "df.dropna(inplace=True)",
   "id": "c19cf3e5a3141fa3",
   "outputs": [],
   "execution_count": 207
  },
  {
   "metadata": {},
   "cell_type": "markdown",
   "source": "Now split the dataframe into training and testing subsets:",
   "id": "78959c9b8bc199e"
  },
  {
   "metadata": {
    "ExecuteTime": {
     "end_time": "2024-09-03T14:39:46.407745Z",
     "start_time": "2024-09-03T14:39:46.389833Z"
    }
   },
   "cell_type": "code",
   "source": [
    "from sklearn.model_selection import train_test_split\n",
    "from sklearn.preprocessing import StandardScaler\n",
    "\n",
    "# Train and test split\n",
    "df_train, df_test = train_test_split(df, test_size=0.2, random_state=13)\n",
    "\n",
    "print(df_train.shape, df_test.shape)\n",
    "df_train.sample(5, random_state=13)"
   ],
   "id": "ab5d0a55273989a7",
   "outputs": [
    {
     "name": "stdout",
     "output_type": "stream",
     "text": [
      "(313, 8) (79, 8)\n"
     ]
    },
    {
     "data": {
      "text/plain": [
       "      MPG  Cylinders  Displacement  Horsepower  Weight  Acceleration  \\\n",
       "103  11.0          8         400.0       150.0  4997.0          14.0   \n",
       "209  19.0          4         120.0        88.0  3270.0          21.9   \n",
       "41   14.0          8         318.0       150.0  4096.0          13.0   \n",
       "21   24.0          4         107.0        90.0  2430.0          14.5   \n",
       "25   10.0          8         360.0       215.0  4615.0          14.0   \n",
       "\n",
       "     Model Year  Origin  \n",
       "103          73       1  \n",
       "209          76       2  \n",
       "41           71       1  \n",
       "21           70       2  \n",
       "25           70       1  "
      ],
      "text/html": [
       "<div>\n",
       "<style scoped>\n",
       "    .dataframe tbody tr th:only-of-type {\n",
       "        vertical-align: middle;\n",
       "    }\n",
       "\n",
       "    .dataframe tbody tr th {\n",
       "        vertical-align: top;\n",
       "    }\n",
       "\n",
       "    .dataframe thead th {\n",
       "        text-align: right;\n",
       "    }\n",
       "</style>\n",
       "<table border=\"1\" class=\"dataframe\">\n",
       "  <thead>\n",
       "    <tr style=\"text-align: right;\">\n",
       "      <th></th>\n",
       "      <th>MPG</th>\n",
       "      <th>Cylinders</th>\n",
       "      <th>Displacement</th>\n",
       "      <th>Horsepower</th>\n",
       "      <th>Weight</th>\n",
       "      <th>Acceleration</th>\n",
       "      <th>Model Year</th>\n",
       "      <th>Origin</th>\n",
       "    </tr>\n",
       "  </thead>\n",
       "  <tbody>\n",
       "    <tr>\n",
       "      <th>103</th>\n",
       "      <td>11.0</td>\n",
       "      <td>8</td>\n",
       "      <td>400.0</td>\n",
       "      <td>150.0</td>\n",
       "      <td>4997.0</td>\n",
       "      <td>14.0</td>\n",
       "      <td>73</td>\n",
       "      <td>1</td>\n",
       "    </tr>\n",
       "    <tr>\n",
       "      <th>209</th>\n",
       "      <td>19.0</td>\n",
       "      <td>4</td>\n",
       "      <td>120.0</td>\n",
       "      <td>88.0</td>\n",
       "      <td>3270.0</td>\n",
       "      <td>21.9</td>\n",
       "      <td>76</td>\n",
       "      <td>2</td>\n",
       "    </tr>\n",
       "    <tr>\n",
       "      <th>41</th>\n",
       "      <td>14.0</td>\n",
       "      <td>8</td>\n",
       "      <td>318.0</td>\n",
       "      <td>150.0</td>\n",
       "      <td>4096.0</td>\n",
       "      <td>13.0</td>\n",
       "      <td>71</td>\n",
       "      <td>1</td>\n",
       "    </tr>\n",
       "    <tr>\n",
       "      <th>21</th>\n",
       "      <td>24.0</td>\n",
       "      <td>4</td>\n",
       "      <td>107.0</td>\n",
       "      <td>90.0</td>\n",
       "      <td>2430.0</td>\n",
       "      <td>14.5</td>\n",
       "      <td>70</td>\n",
       "      <td>2</td>\n",
       "    </tr>\n",
       "    <tr>\n",
       "      <th>25</th>\n",
       "      <td>10.0</td>\n",
       "      <td>8</td>\n",
       "      <td>360.0</td>\n",
       "      <td>215.0</td>\n",
       "      <td>4615.0</td>\n",
       "      <td>14.0</td>\n",
       "      <td>70</td>\n",
       "      <td>1</td>\n",
       "    </tr>\n",
       "  </tbody>\n",
       "</table>\n",
       "</div>"
      ]
     },
     "execution_count": 208,
     "metadata": {},
     "output_type": "execute_result"
    }
   ],
   "execution_count": 208
  },
  {
   "metadata": {},
   "cell_type": "markdown",
   "source": "Normalize numerical features:",
   "id": "d05c9aa6dd830226"
  },
  {
   "metadata": {
    "ExecuteTime": {
     "end_time": "2024-09-03T14:39:46.567611Z",
     "start_time": "2024-09-03T14:39:46.528362Z"
    }
   },
   "cell_type": "code",
   "source": [
    "numeric_cols = ['Cylinders', 'Displacement', 'Horsepower', 'Weight', 'Acceleration']\n",
    "\n",
    "scaler = StandardScaler()\n",
    "\n",
    "df_train_norm = df_train.copy()\n",
    "df_test_norm = df_test.copy()\n",
    "df_train_norm[numeric_cols] = scaler.fit_transform(df_train[numeric_cols])\n",
    "df_test_norm[numeric_cols] = scaler.transform(df_test[numeric_cols])\n",
    "\n",
    "df_train_norm.sample(5, random_state=13)"
   ],
   "id": "1e883badba2f9205",
   "outputs": [
    {
     "data": {
      "text/plain": [
       "      MPG  Cylinders  Displacement  Horsepower    Weight  Acceleration  \\\n",
       "103  11.0   1.510167      2.004739    1.231129  2.404023     -0.591780   \n",
       "209  19.0  -0.832744     -0.696375   -0.403246  0.360361      2.264544   \n",
       "41   14.0   1.510167      1.213698    1.231129  1.337816     -0.953340   \n",
       "21   24.0  -0.832744     -0.821784   -0.350524 -0.633661     -0.411000   \n",
       "25   10.0   1.510167      1.618865    2.944585  1.951980     -0.591780   \n",
       "\n",
       "     Model Year  Origin  \n",
       "103          73       1  \n",
       "209          76       2  \n",
       "41           71       1  \n",
       "21           70       2  \n",
       "25           70       1  "
      ],
      "text/html": [
       "<div>\n",
       "<style scoped>\n",
       "    .dataframe tbody tr th:only-of-type {\n",
       "        vertical-align: middle;\n",
       "    }\n",
       "\n",
       "    .dataframe tbody tr th {\n",
       "        vertical-align: top;\n",
       "    }\n",
       "\n",
       "    .dataframe thead th {\n",
       "        text-align: right;\n",
       "    }\n",
       "</style>\n",
       "<table border=\"1\" class=\"dataframe\">\n",
       "  <thead>\n",
       "    <tr style=\"text-align: right;\">\n",
       "      <th></th>\n",
       "      <th>MPG</th>\n",
       "      <th>Cylinders</th>\n",
       "      <th>Displacement</th>\n",
       "      <th>Horsepower</th>\n",
       "      <th>Weight</th>\n",
       "      <th>Acceleration</th>\n",
       "      <th>Model Year</th>\n",
       "      <th>Origin</th>\n",
       "    </tr>\n",
       "  </thead>\n",
       "  <tbody>\n",
       "    <tr>\n",
       "      <th>103</th>\n",
       "      <td>11.0</td>\n",
       "      <td>1.510167</td>\n",
       "      <td>2.004739</td>\n",
       "      <td>1.231129</td>\n",
       "      <td>2.404023</td>\n",
       "      <td>-0.591780</td>\n",
       "      <td>73</td>\n",
       "      <td>1</td>\n",
       "    </tr>\n",
       "    <tr>\n",
       "      <th>209</th>\n",
       "      <td>19.0</td>\n",
       "      <td>-0.832744</td>\n",
       "      <td>-0.696375</td>\n",
       "      <td>-0.403246</td>\n",
       "      <td>0.360361</td>\n",
       "      <td>2.264544</td>\n",
       "      <td>76</td>\n",
       "      <td>2</td>\n",
       "    </tr>\n",
       "    <tr>\n",
       "      <th>41</th>\n",
       "      <td>14.0</td>\n",
       "      <td>1.510167</td>\n",
       "      <td>1.213698</td>\n",
       "      <td>1.231129</td>\n",
       "      <td>1.337816</td>\n",
       "      <td>-0.953340</td>\n",
       "      <td>71</td>\n",
       "      <td>1</td>\n",
       "    </tr>\n",
       "    <tr>\n",
       "      <th>21</th>\n",
       "      <td>24.0</td>\n",
       "      <td>-0.832744</td>\n",
       "      <td>-0.821784</td>\n",
       "      <td>-0.350524</td>\n",
       "      <td>-0.633661</td>\n",
       "      <td>-0.411000</td>\n",
       "      <td>70</td>\n",
       "      <td>2</td>\n",
       "    </tr>\n",
       "    <tr>\n",
       "      <th>25</th>\n",
       "      <td>10.0</td>\n",
       "      <td>1.510167</td>\n",
       "      <td>1.618865</td>\n",
       "      <td>2.944585</td>\n",
       "      <td>1.951980</td>\n",
       "      <td>-0.591780</td>\n",
       "      <td>70</td>\n",
       "      <td>1</td>\n",
       "    </tr>\n",
       "  </tbody>\n",
       "</table>\n",
       "</div>"
      ]
     },
     "execution_count": 209,
     "metadata": {},
     "output_type": "execute_result"
    }
   ],
   "execution_count": 209
  },
  {
   "metadata": {},
   "cell_type": "markdown",
   "source": "Bucketize numerical feature `Model Year`",
   "id": "840841db07749d08"
  },
  {
   "metadata": {
    "ExecuteTime": {
     "end_time": "2024-09-03T14:39:46.667889Z",
     "start_time": "2024-09-03T14:39:46.661354Z"
    }
   },
   "cell_type": "code",
   "source": [
    "import torch\n",
    "\n",
    "boundaries = torch.tensor([73, 76, 79])\n",
    "\n",
    "v = torch.tensor(df_train_norm['Model Year'].values)\n",
    "df_train_norm['Model Year Bucketed'] = torch.bucketize(v, boundaries, right=True)\n",
    "v = torch.tensor(df_test_norm['Model Year'].values)\n",
    "df_test_norm['Model Year Bucketed'] = torch.bucketize(v, boundaries, right=True)\n",
    "\n",
    "numeric_cols.append('Model Year Bucketed')"
   ],
   "id": "8fee541d65e01950",
   "outputs": [],
   "execution_count": 210
  },
  {
   "metadata": {},
   "cell_type": "markdown",
   "source": "Encode categorical feature `Origin`",
   "id": "feb06568e2e127b1"
  },
  {
   "metadata": {
    "ExecuteTime": {
     "end_time": "2024-09-03T14:39:46.847888Z",
     "start_time": "2024-09-03T14:39:46.802092Z"
    }
   },
   "cell_type": "code",
   "source": [
    "uniques_origin = len(df_train_norm['Origin'].unique())\n",
    "\n",
    "from torch.nn.functional import one_hot\n",
    "\n",
    "# map 1,2,3 Origin values to 0,1,2, for correct onehot encoding\n",
    "origin_onehot = one_hot(torch.tensor(df_train_norm['Origin'].values)-1, num_classes=uniques_origin)\n",
    "x_train_numeric = torch.tensor(df_train_norm[numeric_cols].values)\n",
    "x_train = torch.cat([x_train_numeric, origin_onehot], dim=1).float() # concat encoded to normalized features along columns\n",
    "\n",
    "origin_onehot = one_hot(torch.tensor(df_test_norm['Origin'].values)-1, num_classes=uniques_origin)\n",
    "x_test_numeric = torch.tensor(df_test_norm[numeric_cols].values)\n",
    "x_test = torch.cat([x_test_numeric, origin_onehot], dim=1).float()"
   ],
   "id": "7f79d57e6c2adf50",
   "outputs": [],
   "execution_count": 211
  },
  {
   "metadata": {},
   "cell_type": "markdown",
   "source": "Define targets:",
   "id": "5d9ee02882be14a4"
  },
  {
   "metadata": {
    "ExecuteTime": {
     "end_time": "2024-09-03T14:39:46.967684Z",
     "start_time": "2024-09-03T14:39:46.944925Z"
    }
   },
   "cell_type": "code",
   "source": [
    "y_train = torch.tensor(df_train_norm['MPG'].values).float()\n",
    "y_test = torch.tensor(df_test_norm['MPG'].values).float()"
   ],
   "id": "a6b6112bdc3d4d45",
   "outputs": [],
   "execution_count": 212
  },
  {
   "metadata": {},
   "cell_type": "markdown",
   "source": "### Training Deep Neural Network",
   "id": "498068bd2d5ce48d"
  },
  {
   "metadata": {},
   "cell_type": "markdown",
   "source": "Create dataloader with a batch size of 8 for the later Mini-batch GD:",
   "id": "b39ea594c7201734"
  },
  {
   "metadata": {
    "ExecuteTime": {
     "end_time": "2024-09-03T14:39:47.164845Z",
     "start_time": "2024-09-03T14:39:47.041694Z"
    }
   },
   "cell_type": "code",
   "source": [
    "train_ds = TensorDataset(x_train, y_train)\n",
    "batch_size = 8\n",
    "torch.manual_seed(13)\n",
    "train_dl = DataLoader(train_ds, batch_size=batch_size, shuffle=True)"
   ],
   "id": "f981f2d2f5ed3981",
   "outputs": [],
   "execution_count": 213
  },
  {
   "metadata": {},
   "cell_type": "markdown",
   "source": "Now we build the model with 2 fully connected layers with 8 and 4 hidden units respectively:",
   "id": "3fa0a3c3f819db74"
  },
  {
   "metadata": {
    "ExecuteTime": {
     "end_time": "2024-09-03T14:39:47.314570Z",
     "start_time": "2024-09-03T14:39:47.238368Z"
    }
   },
   "cell_type": "code",
   "source": [
    "hidden_units = [8, 4]\n",
    "layers = []\n",
    "\n",
    "import torch.nn as nn\n",
    "\n",
    "input_size = x_train.shape[1] # number of features\n",
    "\n",
    "for hidden_unit in hidden_units:\n",
    "    layer = nn.Linear(input_size, hidden_unit)\n",
    "    layers.append(layer)\n",
    "    layers.append(nn.ReLU())\n",
    "    input_size = hidden_unit # update input for next layer\n",
    "    \n",
    "# Output layer\n",
    "layers.append(nn.Linear(hidden_units[-1], 1))\n",
    "\n",
    "model = nn.Sequential(*layers)\n",
    "model"
   ],
   "id": "17d36c93c7a76357",
   "outputs": [
    {
     "data": {
      "text/plain": [
       "Sequential(\n",
       "  (0): Linear(in_features=9, out_features=8, bias=True)\n",
       "  (1): ReLU()\n",
       "  (2): Linear(in_features=8, out_features=4, bias=True)\n",
       "  (3): ReLU()\n",
       "  (4): Linear(in_features=4, out_features=1, bias=True)\n",
       ")"
      ]
     },
     "execution_count": 214,
     "metadata": {},
     "output_type": "execute_result"
    }
   ],
   "execution_count": 214
  },
  {
   "metadata": {},
   "cell_type": "markdown",
   "source": "Now we define the loss function and create the SGD for the mini-batch GD:",
   "id": "9fe3860ed8edd1b8"
  },
  {
   "metadata": {
    "ExecuteTime": {
     "end_time": "2024-09-03T14:39:47.484711Z",
     "start_time": "2024-09-03T14:39:47.371465Z"
    }
   },
   "cell_type": "code",
   "source": [
    "loss_fn = nn.MSELoss()\n",
    "optimizer = torch.optim.SGD(model.parameters(), lr=0.00075)"
   ],
   "id": "2d7f3853c77462a",
   "outputs": [],
   "execution_count": 215
  },
  {
   "metadata": {},
   "cell_type": "markdown",
   "source": "Now we train the model with 200 epochs:",
   "id": "5d69aeae136faaf7"
  },
  {
   "metadata": {
    "ExecuteTime": {
     "end_time": "2024-09-03T14:39:53.492080Z",
     "start_time": "2024-09-03T14:39:47.530935Z"
    }
   },
   "cell_type": "code",
   "source": [
    "torch.manual_seed(13)\n",
    "n_epochs = 200\n",
    "\n",
    "loss_hist = []\n",
    "\n",
    "for epoch in range(n_epochs):\n",
    "    loss_hist_train = 0\n",
    "    for x_batch, y_batch in train_dl:\n",
    "        pred = model(x_batch)[:,0] # [8,1] -> [8]\n",
    "        loss = loss_fn(pred, y_batch)\n",
    "        loss.backward()\n",
    "        optimizer.step()\n",
    "        optimizer.zero_grad()\n",
    "        loss_hist_train += loss.item()\n",
    "        \n",
    "    avg_loss = loss_hist_train / len(train_dl)\n",
    "    loss_hist.append(avg_loss)"
   ],
   "id": "b589e8f322afe607",
   "outputs": [],
   "execution_count": 216
  },
  {
   "metadata": {
    "ExecuteTime": {
     "end_time": "2024-09-03T14:39:53.709993Z",
     "start_time": "2024-09-03T14:39:53.537192Z"
    }
   },
   "cell_type": "code",
   "source": [
    "import matplotlib.pyplot as plt\n",
    "import seaborn as sns\n",
    "\n",
    "df_loss = pd.DataFrame({\n",
    "    'Epoch': range(n_epochs),\n",
    "    'Loss': loss_hist\n",
    "})\n",
    "\n",
    "plt.figure(figsize=(8, 6))\n",
    "sns.lineplot(x='Epoch', y='Loss', data=df_loss, marker='o')\n",
    "plt.xlabel('Epoch')\n",
    "plt.ylabel('Loss')\n",
    "plt.title('Training Loss Over Epochs')\n",
    "plt.tight_layout()"
   ],
   "id": "3d55d69943420a93",
   "outputs": [
    {
     "data": {
      "text/plain": [
       "<Figure size 800x600 with 1 Axes>"
      ],
      "image/png": "[encoded data removed]"
     },
     "metadata": {},
     "output_type": "display_data"
    }
   ],
   "execution_count": 217
  },
  {
   "metadata": {},
   "cell_type": "markdown",
   "source": [
    "The learning curve shows a rapid decrease in training loss during the initial epochs, followed by a stabilization period where the loss remains consistently low. This indicates that the model quickly learns the underlying patterns early in the training process and then fine-tunes its performance.  \n",
    "\n",
    "Now let's see the performance on the test set:"
   ],
   "id": "3d61da62275564a2"
  },
  {
   "metadata": {
    "ExecuteTime": {
     "end_time": "2024-09-03T14:39:53.770391Z",
     "start_time": "2024-09-03T14:39:53.764774Z"
    }
   },
   "cell_type": "code",
   "source": [
    "with torch.no_grad():\n",
    "    pred = model(x_test.float())[:,0]\n",
    "    loss = loss_fn(pred, y_test)\n",
    "    print(f'Test MSE: {loss.item():.4f}\\n'\n",
    "          f'Test MAE: {nn.L1Loss()(pred, y_test).item():.4f}')"
   ],
   "id": "104aa1be09c3eef0",
   "outputs": [
    {
     "name": "stdout",
     "output_type": "stream",
     "text": [
      "Test MSE: 12.0123\n",
      "Test MAE: 2.6315\n"
     ]
    }
   ],
   "execution_count": 218
  }
 ],
 "metadata": {
  "kernelspec": {
   "display_name": "Python 3",
   "language": "python",
   "name": "python3"
  },
  "language_info": {
   "codemirror_mode": {
    "name": "ipython",
    "version": 2
   },
   "file_extension": ".py",
   "mimetype": "text/x-python",
   "name": "python",
   "nbconvert_exporter": "python",
   "pygments_lexer": "ipython2",
   "version": "2.7.6"
  }
 },
 "nbformat": 4,
 "nbformat_minor": 5
}
