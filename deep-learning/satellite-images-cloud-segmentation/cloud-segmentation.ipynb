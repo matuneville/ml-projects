{
 "cells": [
  {
   "metadata": {},
   "cell_type": "markdown",
   "source": "## Creating DataLoader",
   "id": "c07d2214ab0bd864"
  },
  {
   "metadata": {
    "ExecuteTime": {
     "end_time": "2024-09-18T16:00:18.018562Z",
     "start_time": "2024-09-18T16:00:14.520956Z"
    }
   },
   "cell_type": "code",
   "source": [
    "from torch.nn import CrossEntropyLoss\n",
    "\n",
    "from cloud_dataset import CloudDataset\n",
    "from pathlib import Path\n",
    "from torchvision import transforms\n",
    "\n",
    "path = Path('archive/38-Cloud_training')\n",
    "\n",
    "transform = transforms.Compose([\n",
    "    transforms.Resize((128, 128)),\n",
    "    transforms.ToTensor(),\n",
    "])\n",
    "\n",
    "dataset = CloudDataset(path/'train_red',\n",
    "                       path/'train_green',\n",
    "                       path/'train_blue',\n",
    "                       path/'train_nir',\n",
    "                       path/'train_gt',\n",
    "                       transform)\n",
    "\n",
    "print(f'Dataset size: {len(dataset)}')"
   ],
   "id": "53d32b1ade1e0cf4",
   "outputs": [
    {
     "name": "stdout",
     "output_type": "stream",
     "text": [
      "Dataset size: 8400\n"
     ]
    }
   ],
   "execution_count": 1
  },
  {
   "metadata": {
    "ExecuteTime": {
     "end_time": "2024-09-18T16:00:18.253173Z",
     "start_time": "2024-09-18T16:00:18.033509Z"
    }
   },
   "cell_type": "code",
   "source": [
    "import random\n",
    "\n",
    "idx = random.randint(0, len(dataset) - 1)\n",
    "x, y = dataset[idx]\n",
    "print(f'Each sample shape: {x.shape}, {y.shape}')"
   ],
   "id": "bd7695fb290eb0f5",
   "outputs": [
    {
     "name": "stdout",
     "output_type": "stream",
     "text": [
      "Each sample shape: torch.Size([4, 128, 128]), torch.Size([128, 128])\n"
     ]
    }
   ],
   "execution_count": 2
  },
  {
   "metadata": {
    "ExecuteTime": {
     "end_time": "2024-09-18T16:00:19.081362Z",
     "start_time": "2024-09-18T16:00:18.363326Z"
    }
   },
   "cell_type": "code",
   "source": [
    "import matplotlib.pyplot as plt\n",
    "\n",
    "fig, ax = plt.subplots(nrows=1, ncols=2, figsize=(9, 5))\n",
    "\n",
    "ax[0].imshow(dataset.open_as_nparray(idx, invert=False, include_nir=False))\n",
    "ax[0].set_title('RGB Image', fontsize=16)\n",
    "ax[0].axis('off')\n",
    "\n",
    "mask = dataset.open_mask(idx)\n",
    "ax[1].imshow(mask)\n",
    "ax[1].set_title('Segmentation Mask', fontsize=16)\n",
    "ax[1].axis('off')\n",
    "\n",
    "plt.tight_layout()"
   ],
   "id": "312f721f89c12610",
   "outputs": [
    {
     "data": {
      "text/plain": [
       "<Figure size 900x500 with 2 Axes>"
      ],
      "image/png": "[encoded data removed]"
     },
     "metadata": {},
     "output_type": "display_data"
    }
   ],
   "execution_count": 3
  },
  {
   "metadata": {},
   "cell_type": "markdown",
   "source": "## DataLoader class: training and validation subsets",
   "id": "32112718e8a8e9fd"
  },
  {
   "metadata": {
    "ExecuteTime": {
     "end_time": "2024-09-18T16:00:19.098642Z",
     "start_time": "2024-09-18T16:00:19.093806Z"
    }
   },
   "cell_type": "code",
   "source": [
    "from torch.utils.data import random_split, DataLoader\n",
    "import torch\n",
    "\n",
    "train_ds, valid_ds = random_split(dataset, [0.8, 0.2])\n",
    "\n",
    "batch_size = 16\n",
    "train_dl = DataLoader(train_ds, batch_size=batch_size, shuffle=True, num_workers=4, pin_memory=True)\n",
    "valid_dl = DataLoader(valid_ds, batch_size=batch_size, shuffle=False, num_workers=4, pin_memory=True)"
   ],
   "id": "c7543eb8bf149653",
   "outputs": [],
   "execution_count": 4
  },
  {
   "metadata": {
    "ExecuteTime": {
     "end_time": "2024-09-18T16:00:20.105565Z",
     "start_time": "2024-09-18T16:00:19.141691Z"
    }
   },
   "cell_type": "code",
   "source": [
    "xb, yb = next(iter(train_dl))\n",
    "print(f'First batch shape: {xb.shape}, {yb.shape}')\n",
    "# BatchSize x C x H x W"
   ],
   "id": "fdb8ebff88549f41",
   "outputs": [
    {
     "name": "stdout",
     "output_type": "stream",
     "text": [
      "First batch shape: torch.Size([16, 4, 128, 128]), torch.Size([16, 128, 128])\n"
     ]
    }
   ],
   "execution_count": 5
  },
  {
   "metadata": {},
   "cell_type": "markdown",
   "source": "## Creating the model",
   "id": "26f036044a65b49e"
  },
  {
   "metadata": {},
   "cell_type": "markdown",
   "source": [
    "![model_graph](https://media.springernature.com/full/springer-static/image/art%3A10.1038%2Fs41598-019-53797-9/MediaObjects/41598_2019_53797_Fig1_HTML.png?as=webp)\n",
    "Source: [Convolutional Neural Networks enable efficient, accurate and fine-grained segmentation of plant species and communities from high-resolution UAV imagery](https://www.nature.com/articles/s41598-019-53797-9) paper"
   ],
   "id": "f1ae5a6be3fda97"
  },
  {
   "metadata": {
    "ExecuteTime": {
     "end_time": "2024-09-18T16:00:20.171532Z",
     "start_time": "2024-09-18T16:00:20.154336Z"
    }
   },
   "cell_type": "code",
   "source": [
    "from unet_model import UNet\n",
    "\n",
    "unet = UNet(in_channels=4, out_channels=1)"
   ],
   "id": "7ad26def79d71e02",
   "outputs": [],
   "execution_count": 6
  },
  {
   "metadata": {},
   "cell_type": "markdown",
   "source": "## Training the model",
   "id": "982f0364b67d4172"
  },
  {
   "metadata": {
    "ExecuteTime": {
     "end_time": "2024-09-18T16:00:20.323011Z",
     "start_time": "2024-09-18T16:00:20.180575Z"
    }
   },
   "cell_type": "code",
   "source": [
    "from train.train import train\n",
    "\n",
    "device = torch.device('cuda:0' if torch.cuda.is_available() else 'cpu')\n",
    "\n",
    "# binary cross entropy, with raw logits as the unet does not have a sigmoid final layer\n",
    "loss_fn = torch.nn.BCEWithLogitsLoss()\n",
    "optimizer = torch.optim.AdamW(unet.parameters(), lr=0.05)\n",
    "epochs = 25"
   ],
   "id": "6288634b09060b13",
   "outputs": [],
   "execution_count": 7
  },
  {
   "metadata": {
    "ExecuteTime": {
     "start_time": "2024-09-18T16:00:20.345557Z"
    }
   },
   "cell_type": "code",
   "source": "hists = train(unet, train_dl, valid_dl, loss_fn, optimizer, epochs, device)",
   "id": "5accc0cb4e305221",
   "outputs": [
    {
     "name": "stderr",
     "output_type": "stream",
     "text": [
      "Training Progress:   4%|▍         | 1/25 [01:00<24:14, 60.59s/epoch]"
     ]
    },
    {
     "name": "stdout",
     "output_type": "stream",
     "text": [
      "--------------------------------------------------\n",
      "Epoch 1, time elapsed: 1.01 min\n",
      "Training accuracy: 0.6885, Training loss: 0.0572\n",
      "Validation accuracy: 0.7055, Validation loss: 0.0357\n"
     ]
    },
    {
     "name": "stderr",
     "output_type": "stream",
     "text": [
      "Training Progress:   8%|▊         | 2/25 [02:12<25:43, 67.11s/epoch]"
     ]
    },
    {
     "name": "stdout",
     "output_type": "stream",
     "text": [
      "--------------------------------------------------\n",
      "Epoch 2, time elapsed: 2.20 min\n",
      "Training accuracy: 0.6953, Training loss: 0.0134\n",
      "Validation accuracy: 0.7055, Validation loss: 0.0308\n"
     ]
    },
    {
     "name": "stderr",
     "output_type": "stream",
     "text": [
      "Training Progress:  12%|█▏        | 3/25 [03:52<30:09, 82.26s/epoch]"
     ]
    },
    {
     "name": "stdout",
     "output_type": "stream",
     "text": [
      "--------------------------------------------------\n",
      "Epoch 3, time elapsed: 3.88 min\n",
      "Training accuracy: 0.6953, Training loss: 0.0114\n",
      "Validation accuracy: 0.7055, Validation loss: 0.0158\n"
     ]
    },
    {
     "name": "stderr",
     "output_type": "stream",
     "text": [
      "Training Progress:  12%|█▏        | 3/25 [03:59<29:17, 79.87s/epoch]\n"
     ]
    },
    {
     "ename": "KeyboardInterrupt",
     "evalue": "",
     "output_type": "error",
     "traceback": [
      "\u001B[0;31m---------------------------------------------------------------------------\u001B[0m",
      "\u001B[0;31mKeyboardInterrupt\u001B[0m                         Traceback (most recent call last)",
      "Cell \u001B[0;32mIn[8], line 1\u001B[0m\n\u001B[0;32m----> 1\u001B[0m hists \u001B[38;5;241m=\u001B[39m \u001B[43mtrain\u001B[49m\u001B[43m(\u001B[49m\u001B[43munet\u001B[49m\u001B[43m,\u001B[49m\u001B[43m \u001B[49m\u001B[43mtrain_dl\u001B[49m\u001B[43m,\u001B[49m\u001B[43m \u001B[49m\u001B[43mvalid_dl\u001B[49m\u001B[43m,\u001B[49m\u001B[43m \u001B[49m\u001B[43mloss_fn\u001B[49m\u001B[43m,\u001B[49m\u001B[43m \u001B[49m\u001B[43moptimizer\u001B[49m\u001B[43m,\u001B[49m\u001B[43m \u001B[49m\u001B[43mepochs\u001B[49m\u001B[43m,\u001B[49m\u001B[43m \u001B[49m\u001B[43mdevice\u001B[49m\u001B[43m)\u001B[49m\n",
      "File \u001B[0;32m~/GitHub/ml-projects/deep-learning/satellite-images-cloud-segmentation/train/train.py:30\u001B[0m, in \u001B[0;36mtrain\u001B[0;34m(model, train_dl, valid_dl, loss_fn, optimizer, epochs, device)\u001B[0m\n\u001B[1;32m     27\u001B[0m     loss\u001B[38;5;241m.\u001B[39mbackward()  \u001B[38;5;66;03m# 4. Backward pass\u001B[39;00m\n\u001B[1;32m     28\u001B[0m     optimizer\u001B[38;5;241m.\u001B[39mstep()  \u001B[38;5;66;03m# 5. Step forward\u001B[39;00m\n\u001B[0;32m---> 30\u001B[0m     train_loss \u001B[38;5;241m+\u001B[39m\u001B[38;5;241m=\u001B[39m \u001B[43mloss\u001B[49m\u001B[38;5;241;43m.\u001B[39;49m\u001B[43mitem\u001B[49m\u001B[43m(\u001B[49m\u001B[43m)\u001B[49m \u001B[38;5;241m*\u001B[39m x_batch\u001B[38;5;241m.\u001B[39msize(\u001B[38;5;241m0\u001B[39m)  \u001B[38;5;66;03m# Accumulate loss\u001B[39;00m\n\u001B[1;32m     31\u001B[0m     train_correct \u001B[38;5;241m+\u001B[39m\u001B[38;5;241m=\u001B[39m compute_accuracy(pred, y_batch) \u001B[38;5;241m*\u001B[39m x_batch\u001B[38;5;241m.\u001B[39msize(\u001B[38;5;241m0\u001B[39m)  \u001B[38;5;66;03m# Accumulate correct predictions\u001B[39;00m\n\u001B[1;32m     33\u001B[0m model\u001B[38;5;241m.\u001B[39meval()\n",
      "\u001B[0;31mKeyboardInterrupt\u001B[0m: "
     ]
    }
   ],
   "execution_count": 8
  },
  {
   "metadata": {
    "ExecuteTime": {
     "end_time": "2024-09-18T16:04:32.622311Z",
     "start_time": "2024-09-18T16:04:32.353891Z"
    }
   },
   "cell_type": "code",
   "source": [
    "# save the trained model's state dictionary\n",
    "torch.save(unet.state_dict(), 'unet_model.pth')"
   ],
   "id": "1d3fa4a7bc62f49d",
   "outputs": [],
   "execution_count": 9
  },
  {
   "metadata": {},
   "cell_type": "code",
   "outputs": [],
   "execution_count": null,
   "source": [
    "\"\"\"xb, yb = next(iter(train_dl))\n",
    "xb.shape, yb.shape\n",
    "block1 = unet.contract_block(4, 32, 3, 1)\n",
    "c1 = block1(xb)\n",
    "c1.shape\n",
    "block2 = unet.expand_block(32, 3, 3, 1)\n",
    "c2 = block2(c1)\n",
    "c2.shape\n",
    "pred = unet(xb)\n",
    "pred.shape\"\"\""
   ],
   "id": "5ec1e9e8f5f0ae80"
  }
 ],
 "metadata": {
  "kernelspec": {
   "display_name": "Python 3",
   "language": "python",
   "name": "python3"
  },
  "language_info": {
   "codemirror_mode": {
    "name": "ipython",
    "version": 2
   },
   "file_extension": ".py",
   "mimetype": "text/x-python",
   "name": "python",
   "nbconvert_exporter": "python",
   "pygments_lexer": "ipython2",
   "version": "2.7.6"
  }
 },
 "nbformat": 4,
 "nbformat_minor": 5
}
