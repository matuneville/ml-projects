{
 "cells": [
  {
   "metadata": {},
   "cell_type": "markdown",
   "source": "# Computing the gradients of the loss with respect to trainable variables",
   "id": "a555eb9b3fa79d78"
  },
  {
   "metadata": {
    "ExecuteTime": {
     "end_time": "2024-09-01T00:30:22.728494Z",
     "start_time": "2024-09-01T00:30:22.724557Z"
    }
   },
   "cell_type": "code",
   "source": "import torch",
   "id": "d32a4240757f6b76",
   "outputs": [],
   "execution_count": 2
  },
  {
   "metadata": {
    "ExecuteTime": {
     "end_time": "2024-09-01T00:31:44.185956Z",
     "start_time": "2024-09-01T00:31:44.179385Z"
    }
   },
   "cell_type": "code",
   "source": [
    "w = torch.tensor(1.0, requires_grad=True)\n",
    "b = torch.tensor(0.5, requires_grad=True)\n",
    "\n",
    "x = torch.tensor([1.4])\n",
    "y = torch.tensor([2.1])\n",
    "\n",
    "z = torch.add(torch.mul(x, w), b)\n",
    "\n",
    "loss = (y - z).pow(2).sum()\n",
    "\n",
    "loss.backward()\n",
    "print('dL/dw : ', w.grad)\n",
    "print('dL/db : ', b.grad)"
   ],
   "id": "dda4a001fc6e8540",
   "outputs": [
    {
     "name": "stdout",
     "output_type": "stream",
     "text": [
      "dL/dw :  tensor(-0.5600)\n",
      "dL/db :  tensor(-0.4000)\n"
     ]
    }
   ],
   "execution_count": 4
  },
  {
   "metadata": {},
   "cell_type": "markdown",
   "source": "# Models based on nn.Sequential",
   "id": "b74f986800a4d16b"
  },
  {
   "metadata": {
    "ExecuteTime": {
     "end_time": "2024-09-01T02:00:12.543333Z",
     "start_time": "2024-09-01T02:00:12.539384Z"
    }
   },
   "cell_type": "code",
   "source": "import torch.nn as nn",
   "id": "116999920fad3530",
   "outputs": [],
   "execution_count": 5
  },
  {
   "metadata": {},
   "cell_type": "markdown",
   "source": "Define a sequential model with two linear layers (`nn.Linear`) and two ReLU activation functions (`nn.ReLU`). The first layer takes 4 inputs and produces 16 outputs, while the second layer takes those 16 outputs and produces 32.",
   "id": "bc1f4db1a88632b7"
  },
  {
   "metadata": {
    "ExecuteTime": {
     "end_time": "2024-09-01T02:01:02.760638Z",
     "start_time": "2024-09-01T02:01:02.752559Z"
    }
   },
   "cell_type": "code",
   "source": [
    "model = nn.Sequential(\n",
    "    nn.Linear(4, 16),\n",
    "    nn.ReLU(),\n",
    "    nn.Linear(16, 32),\n",
    "    nn.ReLU()\n",
    ")\n",
    "\n",
    "model"
   ],
   "id": "db38718653a698a0",
   "outputs": [
    {
     "data": {
      "text/plain": [
       "Sequential(\n",
       "  (0): Linear(in_features=4, out_features=16, bias=True)\n",
       "  (1): ReLU()\n",
       "  (2): Linear(in_features=16, out_features=32, bias=True)\n",
       "  (3): ReLU()\n",
       ")"
      ]
     },
     "execution_count": 6,
     "metadata": {},
     "output_type": "execute_result"
    }
   ],
   "execution_count": 6
  },
  {
   "metadata": {},
   "cell_type": "markdown",
   "source": "Configure the first fully connected layer by specifying the initial value distribution for the weight. Then, we will configure the second fully connected layer by computing the L1 penalty term for the weight matrix",
   "id": "cd4e929751c9eccd"
  },
  {
   "metadata": {
    "ExecuteTime": {
     "end_time": "2024-09-01T02:06:44.471787Z",
     "start_time": "2024-09-01T02:06:44.466832Z"
    }
   },
   "cell_type": "code",
   "source": [
    "nn.init.xavier_uniform_(model[0].weight)\n",
    "l1_weight = 0.01\n",
    "l1_penalty = l1_weight * model[2].weight.abs().sum()"
   ],
   "id": "6aad3a607a6fe047",
   "outputs": [],
   "execution_count": 7
  },
  {
   "metadata": {},
   "cell_type": "code",
   "outputs": [],
   "execution_count": null,
   "source": "",
   "id": "fef264d3789e920a"
  }
 ],
 "metadata": {
  "kernelspec": {
   "display_name": "Python 3",
   "language": "python",
   "name": "python3"
  },
  "language_info": {
   "codemirror_mode": {
    "name": "ipython",
    "version": 2
   },
   "file_extension": ".py",
   "mimetype": "text/x-python",
   "name": "python",
   "nbconvert_exporter": "python",
   "pygments_lexer": "ipython2",
   "version": "2.7.6"
  }
 },
 "nbformat": 4,
 "nbformat_minor": 5
}
