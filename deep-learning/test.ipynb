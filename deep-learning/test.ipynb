{
 "cells": [
  {
   "cell_type": "code",
   "id": "initial_id",
   "metadata": {
    "collapsed": true,
    "ExecuteTime": {
     "end_time": "2024-08-28T18:58:35.057159Z",
     "start_time": "2024-08-28T18:58:27.394697Z"
    }
   },
   "source": [
    "import torch\n",
    "\n",
    "def test_gpu_usage():\n",
    "    # Check if CUDA (NVIDIA GPU) is available\n",
    "    if torch.cuda.is_available():\n",
    "        print(\"CUDA is available! Using the NVIDIA GPU.\")\n",
    "        device = torch.device('cuda')\n",
    "    else:\n",
    "        print(\"CUDA is not available. Using the CPU instead.\")\n",
    "        device = torch.device('cpu')\n",
    "\n",
    "    # Create a random tensor of size 10000x10000\n",
    "    print(\"Creating a large tensor and moving it to the device...\")\n",
    "    large_tensor = torch.rand((10000, 10000), device=device)\n",
    "\n",
    "    # Perform a matrix multiplication to put load on the GPU\n",
    "    print(\"Performing a matrix multiplication on the GPU...\")\n",
    "    result = torch.matmul(large_tensor, large_tensor)\n",
    "\n",
    "    # Verify if the result is on the GPU\n",
    "    print(f\"Result is on device: {result.device}\")\n",
    "    print(\"Computation complete.\")\n",
    "\n",
    "if __name__ == \"__main__\":\n",
    "    test_gpu_usage()\n"
   ],
   "outputs": [
    {
     "name": "stdout",
     "output_type": "stream",
     "text": [
      "CUDA is available! Using the NVIDIA GPU.\n",
      "Creating a large tensor and moving it to the device...\n",
      "Performing a matrix multiplication on the GPU...\n",
      "Result is on device: cuda:0\n",
      "Computation complete.\n"
     ]
    }
   ],
   "execution_count": 1
  },
  {
   "metadata": {},
   "cell_type": "code",
   "outputs": [],
   "execution_count": null,
   "source": "",
   "id": "c4b80868105a1d62"
  }
 ],
 "metadata": {
  "kernelspec": {
   "display_name": "Python 3",
   "language": "python",
   "name": "python3"
  },
  "language_info": {
   "codemirror_mode": {
    "name": "ipython",
    "version": 2
   },
   "file_extension": ".py",
   "mimetype": "text/x-python",
   "name": "python",
   "nbconvert_exporter": "python",
   "pygments_lexer": "ipython2",
   "version": "2.7.6"
  }
 },
 "nbformat": 4,
 "nbformat_minor": 5
}
