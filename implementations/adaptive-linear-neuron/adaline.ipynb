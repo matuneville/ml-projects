{
 "cells": [
  {
   "cell_type": "code",
   "id": "initial_id",
   "metadata": {
    "collapsed": true,
    "ExecuteTime": {
     "end_time": "2024-08-14T15:16:42.379041Z",
     "start_time": "2024-08-14T15:16:42.250757Z"
    }
   },
   "source": [
    "import numpy as np\n",
    "from Adaline import Adaline"
   ],
   "outputs": [],
   "execution_count": 1
  },
  {
   "metadata": {},
   "cell_type": "markdown",
   "source": "Now test it",
   "id": "8e92ca5983fcd5b1"
  },
  {
   "metadata": {
    "ExecuteTime": {
     "end_time": "2024-08-14T15:16:43.281873Z",
     "start_time": "2024-08-14T15:16:42.390820Z"
    }
   },
   "cell_type": "code",
   "source": [
    "import pandas as pd\n",
    "from sklearn.datasets import load_iris\n",
    "\n",
    "iris = load_iris()\n",
    "\n",
    "df = pd.DataFrame(iris.data, columns=iris.feature_names)\n",
    "df['target'] = iris.target\n",
    "df['target_name'] = df['target'].apply(lambda x: iris.target_names[x])\n",
    "\n",
    "# select only setosa and versicolor (to test a binary classification)\n",
    "y = df[df['target_name'].isin(['setosa', 'versicolor'])]['target']\n",
    "\n",
    "#  keep sepal length and petal length\n",
    "X = df[['sepal length (cm)', 'petal length (cm)']].loc[y.index]\n",
    "X.tail()"
   ],
   "id": "3a1e7bbc9459404c",
   "outputs": [
    {
     "data": {
      "text/plain": [
       "    sepal length (cm)  petal length (cm)\n",
       "95                5.7                4.2\n",
       "96                5.7                4.2\n",
       "97                6.2                4.3\n",
       "98                5.1                3.0\n",
       "99                5.7                4.1"
      ],
      "text/html": [
       "<div>\n",
       "<style scoped>\n",
       "    .dataframe tbody tr th:only-of-type {\n",
       "        vertical-align: middle;\n",
       "    }\n",
       "\n",
       "    .dataframe tbody tr th {\n",
       "        vertical-align: top;\n",
       "    }\n",
       "\n",
       "    .dataframe thead th {\n",
       "        text-align: right;\n",
       "    }\n",
       "</style>\n",
       "<table border=\"1\" class=\"dataframe\">\n",
       "  <thead>\n",
       "    <tr style=\"text-align: right;\">\n",
       "      <th></th>\n",
       "      <th>sepal length (cm)</th>\n",
       "      <th>petal length (cm)</th>\n",
       "    </tr>\n",
       "  </thead>\n",
       "  <tbody>\n",
       "    <tr>\n",
       "      <th>95</th>\n",
       "      <td>5.7</td>\n",
       "      <td>4.2</td>\n",
       "    </tr>\n",
       "    <tr>\n",
       "      <th>96</th>\n",
       "      <td>5.7</td>\n",
       "      <td>4.2</td>\n",
       "    </tr>\n",
       "    <tr>\n",
       "      <th>97</th>\n",
       "      <td>6.2</td>\n",
       "      <td>4.3</td>\n",
       "    </tr>\n",
       "    <tr>\n",
       "      <th>98</th>\n",
       "      <td>5.1</td>\n",
       "      <td>3.0</td>\n",
       "    </tr>\n",
       "    <tr>\n",
       "      <th>99</th>\n",
       "      <td>5.7</td>\n",
       "      <td>4.1</td>\n",
       "    </tr>\n",
       "  </tbody>\n",
       "</table>\n",
       "</div>"
      ]
     },
     "execution_count": 2,
     "metadata": {},
     "output_type": "execute_result"
    }
   ],
   "execution_count": 2
  },
  {
   "metadata": {
    "ExecuteTime": {
     "end_time": "2024-08-14T15:16:43.494884Z",
     "start_time": "2024-08-14T15:16:43.485599Z"
    }
   },
   "cell_type": "code",
   "source": [
    "# Standardize values for better gradient descent performance\n",
    "\n",
    "X_mean = X.mean(axis=0)\n",
    "X_std = X.std(axis=0)\n",
    "X_normalized = (X - X_mean) / X_std\n",
    "\n",
    "ada = Adaline(eta=0.5, n_iter=20, random_state=1310)\n",
    "\n",
    "ada.fit(X_normalized.values, y.values)"
   ],
   "id": "35236d94634f92a",
   "outputs": [
    {
     "data": {
      "text/plain": [
       "<Adaline.Adaline at 0x713db45ddd90>"
      ]
     },
     "execution_count": 3,
     "metadata": {},
     "output_type": "execute_result"
    }
   ],
   "execution_count": 3
  },
  {
   "metadata": {
    "ExecuteTime": {
     "end_time": "2024-08-14T15:16:44.383954Z",
     "start_time": "2024-08-14T15:16:43.688293Z"
    }
   },
   "cell_type": "code",
   "source": [
    "import matplotlib.pyplot as plt\n",
    "\n",
    "plt.plot(range(1, len(ada.losses_) + 1), ada.losses_, marker='o')\n",
    "plt.xlabel('Epochs')\n",
    "plt.ylabel('Mean squared error')\n",
    "plt.tight_layout()"
   ],
   "id": "e269e1029d1cf3a5",
   "outputs": [
    {
     "data": {
      "text/plain": [
       "<Figure size 640x480 with 1 Axes>"
      ],
      "image/png": "[encoded data removed]"
     },
     "metadata": {},
     "output_type": "display_data"
    }
   ],
   "execution_count": 4
  },
  {
   "metadata": {},
   "cell_type": "markdown",
   "source": "It converges to 0",
   "id": "fd5c04caddbae11e"
  }
 ],
 "metadata": {
  "kernelspec": {
   "display_name": "Python 3",
   "language": "python",
   "name": "python3"
  },
  "language_info": {
   "codemirror_mode": {
    "name": "ipython",
    "version": 2
   },
   "file_extension": ".py",
   "mimetype": "text/x-python",
   "name": "python",
   "nbconvert_exporter": "python",
   "pygments_lexer": "ipython2",
   "version": "2.7.6"
  }
 },
 "nbformat": 4,
 "nbformat_minor": 5
}
