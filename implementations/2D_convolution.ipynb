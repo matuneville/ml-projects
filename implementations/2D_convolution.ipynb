{
 "cells": [
  {
   "cell_type": "code",
   "id": "initial_id",
   "metadata": {
    "collapsed": true,
    "ExecuteTime": {
     "end_time": "2024-09-05T15:06:15.200421Z",
     "start_time": "2024-09-05T15:06:15.194853Z"
    }
   },
   "source": [
    "import numpy as np\n",
    "\n",
    "def convolution_2d(X, W, p=(0,0), s=(1,1)):\n",
    "    W_r = np.array(W)[::-1, ::-1] # rotate filter vertically and horizontally\n",
    "    X_orig = np.array(X)\n",
    "    \n",
    "    # sized of padded X\n",
    "    n1 = X_orig.shape[0] + 2*p[0]\n",
    "    n2 = X_orig.shape[1] + 2*p[1]\n",
    "    \n",
    "    X_padded = np.zeros((n1, n2))\n",
    "    X_padded[p[0]:p[0]+X_orig.shape[0], p[1]:p[1]+X_orig.shape[1]] = X_orig\n",
    "    \n",
    "    Y = []\n",
    "    \n",
    "    times_conv_h = int(((X_padded.shape[0] - W_r.shape[0]) / s[0])+1)\n",
    "    times_conv_v = int(((X_padded.shape[1] - W_r.shape[1]) / s[1])+1)\n",
    "    \n",
    "    for i in range(0, times_conv_h, s[0]):\n",
    "        Y_i = []\n",
    "        for j in range(0, times_conv_v, s[1]):\n",
    "            # take square of kernel size\n",
    "            X_sub = X_padded[i:i+W_r.shape[0], j:j+W_r.shape[1]]\n",
    "            Y_ij = np.sum(X_sub * W_r, axis=(0,1))\n",
    "            Y_i.append(Y_ij)\n",
    "        Y.append(Y_i)\n",
    "            \n",
    "    return np.array(Y)"
   ],
   "outputs": [],
   "execution_count": 15
  },
  {
   "metadata": {
    "ExecuteTime": {
     "end_time": "2024-09-05T15:06:15.595215Z",
     "start_time": "2024-09-05T15:06:15.589352Z"
    }
   },
   "cell_type": "code",
   "source": [
    "X = [[1, 3, 2, 4], [5, 6, 1, 3], [1, 2, 0, 2], [3, 4, 3, 2]]\n",
    "W = [[1, 0, 3], [1, 2, 1], [0, 1, 1]]\n",
    "\n",
    "print(convolution_2d(X, W, p=(1,1), s=(1,1)))"
   ],
   "id": "e2c37a9005b8edc5",
   "outputs": [
    {
     "name": "stdout",
     "output_type": "stream",
     "text": [
      "[[11. 25. 32. 13.]\n",
      " [19. 25. 24. 13.]\n",
      " [13. 28. 25. 17.]\n",
      " [11. 17. 14.  9.]]\n"
     ]
    }
   ],
   "execution_count": 16
  },
  {
   "metadata": {
    "ExecuteTime": {
     "end_time": "2024-09-05T15:07:13.759236Z",
     "start_time": "2024-09-05T15:07:13.755145Z"
    }
   },
   "cell_type": "code",
   "source": [
    "import scipy\n",
    "\n",
    "print(scipy.signal.convolve2d(X, W, mode='same'))"
   ],
   "id": "968fc55b30d940ba",
   "outputs": [
    {
     "name": "stdout",
     "output_type": "stream",
     "text": [
      "[[11 25 32 13]\n",
      " [19 25 24 13]\n",
      " [13 28 25 17]\n",
      " [11 17 14  9]]\n"
     ]
    }
   ],
   "execution_count": 18
  },
  {
   "metadata": {},
   "cell_type": "code",
   "outputs": [],
   "execution_count": null,
   "source": "",
   "id": "3543e4af103592e1"
  }
 ],
 "metadata": {
  "kernelspec": {
   "display_name": "Python 3",
   "language": "python",
   "name": "python3"
  },
  "language_info": {
   "codemirror_mode": {
    "name": "ipython",
    "version": 2
   },
   "file_extension": ".py",
   "mimetype": "text/x-python",
   "name": "python",
   "nbconvert_exporter": "python",
   "pygments_lexer": "ipython2",
   "version": "2.7.6"
  }
 },
 "nbformat": 4,
 "nbformat_minor": 5
}
