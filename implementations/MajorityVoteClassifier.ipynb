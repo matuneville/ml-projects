{
 "cells": [
  {
   "cell_type": "code",
   "id": "initial_id",
   "metadata": {
    "collapsed": true,
    "ExecuteTime": {
     "end_time": "2024-08-07T20:18:25.184281Z",
     "start_time": "2024-08-07T20:18:24.913559Z"
    }
   },
   "source": [
    "import numpy as np\n",
    "from sklearn.base import BaseEstimator\n",
    "from sklearn.base import ClassifierMixin\n",
    "from sklearn.preprocessing import LabelEncoder\n",
    "from sklearn.base import clone\n",
    "from sklearn.pipeline import _name_estimators\n",
    "import numpy as np\n",
    "import operator"
   ],
   "outputs": [],
   "execution_count": 8
  },
  {
   "metadata": {},
   "cell_type": "code",
   "outputs": [],
   "execution_count": null,
   "source": [
    "class MajorityVoteClassifier(BaseEstimator, ClassifierMixin):\n",
    "    \n",
    "    def __init__(self, classifiers, vote='classlabel', weights=None):\n",
    "        \"\"\"\n",
    "        Parameters\n",
    "        :param classifiers: List of classifiers \n",
    "        :param vote: Get classlabel or probability of majority vote\n",
    "        :param weights: List of weights in case needed \n",
    "        \"\"\"\n",
    "        self.classifiers = classifiers\n",
    "        self.named_classifiers_ = {\n",
    "            key: value for key, value in _name_estimators(classifiers)\n",
    "        }\n",
    "        self.vote = vote\n",
    "        self.weights = weights\n",
    "        \n",
    "        \n",
    "    def fit(self, X, y):\n",
    "        if self.vote not in ('probability', 'classlabel'):\n",
    "            raise ValueError(f\"vote must be 'probability' or 'classlabel'\" \n",
    "                             f\"; got (vote={self.vote})\")\n",
    "        \n",
    "        if self.weights and len(self.weights) != len(self.classifiers):\n",
    "            raise ValueError(f'Number of classifiers and weights must be equal'\n",
    "                             f'; got {len(self.weights)} weights,'\n",
    "                             f' {len(self.classifiers)} classifiers')\n",
    "        \n",
    "        self.lable_encoder_ = LabelEncoder()\n",
    "        self.y_encoded_ = self.lable_encoder_.fit_transform(y)\n",
    "        self.classes_ = self.lable_encoder_.classes_\n",
    "        self.classifiers_ = []\n",
    "        \n",
    "        for clf in self.classifiers:\n",
    "            fitted_clf = clone(clf).fit(X, self.y_encoded_)\n",
    "            self.classifiers_.append(fitted_clf)\n",
    "        \n",
    "        return self\n",
    "    \n",
    "    \n",
    "    def predict(self, X):\n",
    "        if self.vote == 'probability':\n",
    "            majority_vote = np.argmax(self.predict_proba(X), axis=1)\n",
    "        else:\n",
    "            # self.vote == 'classlabel'\n",
    "            predictions = np.array([clf.predict(X) for clf in self.classifiers]).T\n",
    "            majority_vote = np.apply_along_axis(\n",
    "                lambda x: np.argmax(\n",
    "                    np.bincount(X, self.weights[x])\n",
    "                ),\n",
    "                axis=1, arr=predictions\n",
    "            )\n",
    "        majority_vote = self.lable_encoder_.inverse_transform(majority_vote)\n",
    "        return majority_vote\n",
    "    \n",
    "    \n",
    "    def predict_proba(self, X):\n",
    "        probas = np.array([clf.predict_proba(X) for clf in self.classifiers])\n",
    "        mean_weighted_probas = np.average(probas, weights=self.weights, axis=0)\n",
    "        return mean_weighted_probas\n",
    "    \n",
    "    def get_params(self, deep=True):\n",
    "        if not deep:\n",
    "            return super().get_params(deep=False)\n",
    "        else:\n",
    "            out = self.named_classifiers_.copy()\n",
    "            for name, step in self.named_classifiers_.items():\n",
    "                for key, value in step.get_params(deep=True).items():\n",
    "                    out[f'{name}__{key}'] = value\n",
    "            return out"
   ],
   "id": "3df8261b02cc3f06"
  }
 ],
 "metadata": {
  "kernelspec": {
   "display_name": "Python 3",
   "language": "python",
   "name": "python3"
  },
  "language_info": {
   "codemirror_mode": {
    "name": "ipython",
    "version": 2
   },
   "file_extension": ".py",
   "mimetype": "text/x-python",
   "name": "python",
   "nbconvert_exporter": "python",
   "pygments_lexer": "ipython2",
   "version": "2.7.6"
  }
 },
 "nbformat": 4,
 "nbformat_minor": 5
}
