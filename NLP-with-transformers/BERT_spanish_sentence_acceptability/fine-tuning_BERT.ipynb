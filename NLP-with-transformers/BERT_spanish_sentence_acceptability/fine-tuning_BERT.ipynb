{
 "cells": [
  {
   "metadata": {},
   "cell_type": "markdown",
   "source": "# Sentence grammar acceptability (Español)",
   "id": "451412bac0f4cd33"
  },
  {
   "metadata": {
    "collapsed": true,
    "ExecuteTime": {
     "end_time": "2025-01-04T15:26:15.394630Z",
     "start_time": "2025-01-04T15:26:12.898602Z"
    }
   },
   "cell_type": "code",
   "outputs": [],
   "execution_count": 1,
   "source": [
    "import torch\n",
    "import transformers\n",
    "import pandas as pd\n",
    "import random\n",
    "import numpy as np\n",
    "import sklearn"
   ],
   "id": "initial_id"
  },
  {
   "metadata": {
    "ExecuteTime": {
     "end_time": "2025-01-04T15:26:15.402438Z",
     "start_time": "2025-01-04T15:26:15.399167Z"
    }
   },
   "cell_type": "code",
   "outputs": [],
   "execution_count": 2,
   "source": [
    "from torch import nn as nn\n",
    "from torch.utils.data import TensorDataset, DataLoader, RandomSampler, SequentialSampler"
   ],
   "id": "b3d1064f6d05be6d"
  },
  {
   "metadata": {
    "ExecuteTime": {
     "end_time": "2025-01-04T15:26:16.044825Z",
     "start_time": "2025-01-04T15:26:15.508168Z"
    }
   },
   "cell_type": "code",
   "outputs": [],
   "execution_count": 3,
   "source": [
    "# import BERT modules\n",
    "from transformers import BertTokenizer, BertConfig, BertModel, AdamW\n",
    "from transformers import BertForSequenceClassification, get_linear_schedule_with_warmup"
   ],
   "id": "66420d93a7838b23"
  },
  {
   "metadata": {
    "ExecuteTime": {
     "end_time": "2025-01-04T15:26:16.093454Z",
     "start_time": "2025-01-04T15:26:16.052641Z"
    }
   },
   "cell_type": "code",
   "outputs": [],
   "execution_count": 4,
   "source": [
    "# progress bar for training\n",
    "from tqdm import tqdm, trange\n",
    "\n",
    "# utils\n",
    "from sklearn.model_selection import train_test_split"
   ],
   "id": "ede82e5d36037dcb"
  },
  {
   "metadata": {},
   "cell_type": "markdown",
   "source": "## Importing [Spanish Corpus of Linguistic Acceptability](https://dataverse.csuc.cat/dataset.xhtml?persistentId=doi:10.34810/data1138) (EsCoLA) Dataset",
   "id": "aa0351cb4ed8c873"
  },
  {
   "metadata": {
    "ExecuteTime": {
     "end_time": "2025-01-04T15:26:17.583699Z",
     "start_time": "2025-01-04T15:26:16.103682Z"
    }
   },
   "cell_type": "code",
   "outputs": [],
   "execution_count": 5,
   "source": "df = pd.read_excel(\"EsCoLA_InDomainTrainDev.xlsx\")",
   "id": "cd5c49c1473b0042"
  },
  {
   "metadata": {},
   "cell_type": "markdown",
   "source": "## Some Data exploration",
   "id": "af801f72ac25737a"
  },
  {
   "metadata": {
    "ExecuteTime": {
     "end_time": "2025-01-04T15:26:17.614897Z",
     "start_time": "2025-01-04T15:26:17.598219Z"
    }
   },
   "cell_type": "code",
   "outputs": [
    {
     "data": {
      "text/plain": [
       "            ID Source  Label Source_annotation  Annotator_1  Annotator_2  \\\n",
       "0  EsCoLA_5681  GDE35      1               NaN            1            0   \n",
       "1  EsCoLA_8872  GDE51      1               NaN            1            1   \n",
       "2  EsCoLA_5661  GDE35      1               NaN            1            0   \n",
       "3  EsCoLA_7328  GDE42      0                 *            0            1   \n",
       "4  EsCoLA_6179  GDE36      1               NaN            1            1   \n",
       "\n",
       "   Annotator_3  Human_annotation_median  \\\n",
       "0            1                        1   \n",
       "1            1                        1   \n",
       "2            0                        0   \n",
       "3            1                        1   \n",
       "4            1                        1   \n",
       "\n",
       "                                            Sentence  Category  Split  \n",
       "0                       ¿Opinaron si debían hacerlo?         7  train  \n",
       "1                                 ¿Quién ha llamado?         7  train  \n",
       "2                               No se sabe donde ir.         7  train  \n",
       "3  Sólo tenía una peseta, y aquel tipo me pedía d...        14  train  \n",
       "4                                 No sabe qué creer.        10  train  "
      ],
      "text/html": [
       "<div>\n",
       "<style scoped>\n",
       "    .dataframe tbody tr th:only-of-type {\n",
       "        vertical-align: middle;\n",
       "    }\n",
       "\n",
       "    .dataframe tbody tr th {\n",
       "        vertical-align: top;\n",
       "    }\n",
       "\n",
       "    .dataframe thead th {\n",
       "        text-align: right;\n",
       "    }\n",
       "</style>\n",
       "<table border=\"1\" class=\"dataframe\">\n",
       "  <thead>\n",
       "    <tr style=\"text-align: right;\">\n",
       "      <th></th>\n",
       "      <th>ID</th>\n",
       "      <th>Source</th>\n",
       "      <th>Label</th>\n",
       "      <th>Source_annotation</th>\n",
       "      <th>Annotator_1</th>\n",
       "      <th>Annotator_2</th>\n",
       "      <th>Annotator_3</th>\n",
       "      <th>Human_annotation_median</th>\n",
       "      <th>Sentence</th>\n",
       "      <th>Category</th>\n",
       "      <th>Split</th>\n",
       "    </tr>\n",
       "  </thead>\n",
       "  <tbody>\n",
       "    <tr>\n",
       "      <th>0</th>\n",
       "      <td>EsCoLA_5681</td>\n",
       "      <td>GDE35</td>\n",
       "      <td>1</td>\n",
       "      <td>NaN</td>\n",
       "      <td>1</td>\n",
       "      <td>0</td>\n",
       "      <td>1</td>\n",
       "      <td>1</td>\n",
       "      <td>¿Opinaron si debían hacerlo?</td>\n",
       "      <td>7</td>\n",
       "      <td>train</td>\n",
       "    </tr>\n",
       "    <tr>\n",
       "      <th>1</th>\n",
       "      <td>EsCoLA_8872</td>\n",
       "      <td>GDE51</td>\n",
       "      <td>1</td>\n",
       "      <td>NaN</td>\n",
       "      <td>1</td>\n",
       "      <td>1</td>\n",
       "      <td>1</td>\n",
       "      <td>1</td>\n",
       "      <td>¿Quién ha llamado?</td>\n",
       "      <td>7</td>\n",
       "      <td>train</td>\n",
       "    </tr>\n",
       "    <tr>\n",
       "      <th>2</th>\n",
       "      <td>EsCoLA_5661</td>\n",
       "      <td>GDE35</td>\n",
       "      <td>1</td>\n",
       "      <td>NaN</td>\n",
       "      <td>1</td>\n",
       "      <td>0</td>\n",
       "      <td>0</td>\n",
       "      <td>0</td>\n",
       "      <td>No se sabe donde ir.</td>\n",
       "      <td>7</td>\n",
       "      <td>train</td>\n",
       "    </tr>\n",
       "    <tr>\n",
       "      <th>3</th>\n",
       "      <td>EsCoLA_7328</td>\n",
       "      <td>GDE42</td>\n",
       "      <td>0</td>\n",
       "      <td>*</td>\n",
       "      <td>0</td>\n",
       "      <td>1</td>\n",
       "      <td>1</td>\n",
       "      <td>1</td>\n",
       "      <td>Sólo tenía una peseta, y aquel tipo me pedía d...</td>\n",
       "      <td>14</td>\n",
       "      <td>train</td>\n",
       "    </tr>\n",
       "    <tr>\n",
       "      <th>4</th>\n",
       "      <td>EsCoLA_6179</td>\n",
       "      <td>GDE36</td>\n",
       "      <td>1</td>\n",
       "      <td>NaN</td>\n",
       "      <td>1</td>\n",
       "      <td>1</td>\n",
       "      <td>1</td>\n",
       "      <td>1</td>\n",
       "      <td>No sabe qué creer.</td>\n",
       "      <td>10</td>\n",
       "      <td>train</td>\n",
       "    </tr>\n",
       "  </tbody>\n",
       "</table>\n",
       "</div>"
      ]
     },
     "execution_count": 6,
     "metadata": {},
     "output_type": "execute_result"
    }
   ],
   "execution_count": 6,
   "source": "df.head()",
   "id": "86d4b1b191065781"
  },
  {
   "metadata": {
    "ExecuteTime": {
     "end_time": "2025-01-04T15:26:17.715318Z",
     "start_time": "2025-01-04T15:26:17.688623Z"
    }
   },
   "cell_type": "code",
   "outputs": [
    {
     "data": {
      "text/plain": [
       "                ID Source  Label Source_annotation  Annotator_1  Annotator_2  \\\n",
       "7270   EsCoLA_2045  GDE16      0                 *            0            0   \n",
       "2967   EsCoLA_9285  GDE53      1               NaN            1            0   \n",
       "424    EsCoLA_6579  GDE38      1               NaN            1            1   \n",
       "1570  EsCoLA_10296  GDE65      1               NaN            1            1   \n",
       "7947     EsCoLA_75  GDE01      1               NaN            1            0   \n",
       "\n",
       "      Annotator_3  Human_annotation_median  \\\n",
       "7270            0                        0   \n",
       "2967            1                        1   \n",
       "424             1                        1   \n",
       "1570            1                        1   \n",
       "7947            1                        1   \n",
       "\n",
       "                                               Sentence  Category  Split  \n",
       "7270            Escribió una cierta novela de misterio.        13  train  \n",
       "2967               Empezando a llover salíamos de casa.         3  train  \n",
       "424              Caminó tres kilómetros bien caminados.         3  train  \n",
       "1570  Juan empezará a salir cuando terminen los exám...         9  train  \n",
       "7947                        Lo encontré entre el barro.        11  train  "
      ],
      "text/html": [
       "<div>\n",
       "<style scoped>\n",
       "    .dataframe tbody tr th:only-of-type {\n",
       "        vertical-align: middle;\n",
       "    }\n",
       "\n",
       "    .dataframe tbody tr th {\n",
       "        vertical-align: top;\n",
       "    }\n",
       "\n",
       "    .dataframe thead th {\n",
       "        text-align: right;\n",
       "    }\n",
       "</style>\n",
       "<table border=\"1\" class=\"dataframe\">\n",
       "  <thead>\n",
       "    <tr style=\"text-align: right;\">\n",
       "      <th></th>\n",
       "      <th>ID</th>\n",
       "      <th>Source</th>\n",
       "      <th>Label</th>\n",
       "      <th>Source_annotation</th>\n",
       "      <th>Annotator_1</th>\n",
       "      <th>Annotator_2</th>\n",
       "      <th>Annotator_3</th>\n",
       "      <th>Human_annotation_median</th>\n",
       "      <th>Sentence</th>\n",
       "      <th>Category</th>\n",
       "      <th>Split</th>\n",
       "    </tr>\n",
       "  </thead>\n",
       "  <tbody>\n",
       "    <tr>\n",
       "      <th>7270</th>\n",
       "      <td>EsCoLA_2045</td>\n",
       "      <td>GDE16</td>\n",
       "      <td>0</td>\n",
       "      <td>*</td>\n",
       "      <td>0</td>\n",
       "      <td>0</td>\n",
       "      <td>0</td>\n",
       "      <td>0</td>\n",
       "      <td>Escribió una cierta novela de misterio.</td>\n",
       "      <td>13</td>\n",
       "      <td>train</td>\n",
       "    </tr>\n",
       "    <tr>\n",
       "      <th>2967</th>\n",
       "      <td>EsCoLA_9285</td>\n",
       "      <td>GDE53</td>\n",
       "      <td>1</td>\n",
       "      <td>NaN</td>\n",
       "      <td>1</td>\n",
       "      <td>0</td>\n",
       "      <td>1</td>\n",
       "      <td>1</td>\n",
       "      <td>Empezando a llover salíamos de casa.</td>\n",
       "      <td>3</td>\n",
       "      <td>train</td>\n",
       "    </tr>\n",
       "    <tr>\n",
       "      <th>424</th>\n",
       "      <td>EsCoLA_6579</td>\n",
       "      <td>GDE38</td>\n",
       "      <td>1</td>\n",
       "      <td>NaN</td>\n",
       "      <td>1</td>\n",
       "      <td>1</td>\n",
       "      <td>1</td>\n",
       "      <td>1</td>\n",
       "      <td>Caminó tres kilómetros bien caminados.</td>\n",
       "      <td>3</td>\n",
       "      <td>train</td>\n",
       "    </tr>\n",
       "    <tr>\n",
       "      <th>1570</th>\n",
       "      <td>EsCoLA_10296</td>\n",
       "      <td>GDE65</td>\n",
       "      <td>1</td>\n",
       "      <td>NaN</td>\n",
       "      <td>1</td>\n",
       "      <td>1</td>\n",
       "      <td>1</td>\n",
       "      <td>1</td>\n",
       "      <td>Juan empezará a salir cuando terminen los exám...</td>\n",
       "      <td>9</td>\n",
       "      <td>train</td>\n",
       "    </tr>\n",
       "    <tr>\n",
       "      <th>7947</th>\n",
       "      <td>EsCoLA_75</td>\n",
       "      <td>GDE01</td>\n",
       "      <td>1</td>\n",
       "      <td>NaN</td>\n",
       "      <td>1</td>\n",
       "      <td>0</td>\n",
       "      <td>1</td>\n",
       "      <td>1</td>\n",
       "      <td>Lo encontré entre el barro.</td>\n",
       "      <td>11</td>\n",
       "      <td>train</td>\n",
       "    </tr>\n",
       "  </tbody>\n",
       "</table>\n",
       "</div>"
      ]
     },
     "execution_count": 7,
     "metadata": {},
     "output_type": "execute_result"
    }
   ],
   "execution_count": 7,
   "source": "df.sample(5)",
   "id": "e4b42fa887e76f96"
  },
  {
   "metadata": {},
   "cell_type": "markdown",
   "source": [
    "- ID: Unique identifier for each sentence.\n",
    "- Source: Reference source of the sentence.\n",
    "- Label: Binary acceptability (1=Acceptable, 0=Unacceptable).\n",
    "- Source_annotation: Acceptability from the original source (1=Acceptable, *=Unacceptable).\n",
    "- Annotator_1, Annotator_2, Annotator_3: Human acceptability judgments (1 or 0).\n",
    "- Human_annotation_median: Median of annotators’ judgments.\n",
    "- Sentence: Sentence under evaluation.\n",
    "- Category: Linguistic phenomenon (e.g., 7=Wh-phenomena).\n",
    "- Split: Dataset split (train, dev, test).\n",
    "\n",
    "\n",
    "We will keep only the important features: **Sentence, Label, Split**"
   ],
   "id": "ae885787d871e2f8"
  },
  {
   "metadata": {
    "ExecuteTime": {
     "end_time": "2025-01-04T15:26:17.883501Z",
     "start_time": "2025-01-04T15:26:17.740525Z"
    }
   },
   "cell_type": "code",
   "outputs": [
    {
     "data": {
      "text/plain": [
       "                                               Sentence  Label  Split\n",
       "366                            No sé lo que hace Pedro.      1  train\n",
       "6867         A mi prima, parece que la van a contratar.      1  train\n",
       "7348                      Ese nombre, ¿cómo se escribe?      1  train\n",
       "1123                           Oigo cantar una canción.      1  train\n",
       "1809                ¿Y qué quieres tú? ¿Que digan todo?      1  train\n",
       "8298             Conocí a Juan mientras era de Cáceres.      0  train\n",
       "2613      El libro el que compramos ayer era de física.      0  train\n",
       "8185               Amo al chico que su padre es médico.      1  train\n",
       "8809  En términos más concretos, se puede afirmar qu...      1    dev\n",
       "3951  Los misioneros que han sido cruelmente persegu...      1  train"
      ],
      "text/html": [
       "<div>\n",
       "<style scoped>\n",
       "    .dataframe tbody tr th:only-of-type {\n",
       "        vertical-align: middle;\n",
       "    }\n",
       "\n",
       "    .dataframe tbody tr th {\n",
       "        vertical-align: top;\n",
       "    }\n",
       "\n",
       "    .dataframe thead th {\n",
       "        text-align: right;\n",
       "    }\n",
       "</style>\n",
       "<table border=\"1\" class=\"dataframe\">\n",
       "  <thead>\n",
       "    <tr style=\"text-align: right;\">\n",
       "      <th></th>\n",
       "      <th>Sentence</th>\n",
       "      <th>Label</th>\n",
       "      <th>Split</th>\n",
       "    </tr>\n",
       "  </thead>\n",
       "  <tbody>\n",
       "    <tr>\n",
       "      <th>366</th>\n",
       "      <td>No sé lo que hace Pedro.</td>\n",
       "      <td>1</td>\n",
       "      <td>train</td>\n",
       "    </tr>\n",
       "    <tr>\n",
       "      <th>6867</th>\n",
       "      <td>A mi prima, parece que la van a contratar.</td>\n",
       "      <td>1</td>\n",
       "      <td>train</td>\n",
       "    </tr>\n",
       "    <tr>\n",
       "      <th>7348</th>\n",
       "      <td>Ese nombre, ¿cómo se escribe?</td>\n",
       "      <td>1</td>\n",
       "      <td>train</td>\n",
       "    </tr>\n",
       "    <tr>\n",
       "      <th>1123</th>\n",
       "      <td>Oigo cantar una canción.</td>\n",
       "      <td>1</td>\n",
       "      <td>train</td>\n",
       "    </tr>\n",
       "    <tr>\n",
       "      <th>1809</th>\n",
       "      <td>¿Y qué quieres tú? ¿Que digan todo?</td>\n",
       "      <td>1</td>\n",
       "      <td>train</td>\n",
       "    </tr>\n",
       "    <tr>\n",
       "      <th>8298</th>\n",
       "      <td>Conocí a Juan mientras era de Cáceres.</td>\n",
       "      <td>0</td>\n",
       "      <td>train</td>\n",
       "    </tr>\n",
       "    <tr>\n",
       "      <th>2613</th>\n",
       "      <td>El libro el que compramos ayer era de física.</td>\n",
       "      <td>0</td>\n",
       "      <td>train</td>\n",
       "    </tr>\n",
       "    <tr>\n",
       "      <th>8185</th>\n",
       "      <td>Amo al chico que su padre es médico.</td>\n",
       "      <td>1</td>\n",
       "      <td>train</td>\n",
       "    </tr>\n",
       "    <tr>\n",
       "      <th>8809</th>\n",
       "      <td>En términos más concretos, se puede afirmar qu...</td>\n",
       "      <td>1</td>\n",
       "      <td>dev</td>\n",
       "    </tr>\n",
       "    <tr>\n",
       "      <th>3951</th>\n",
       "      <td>Los misioneros que han sido cruelmente persegu...</td>\n",
       "      <td>1</td>\n",
       "      <td>train</td>\n",
       "    </tr>\n",
       "  </tbody>\n",
       "</table>\n",
       "</div>"
      ]
     },
     "execution_count": 8,
     "metadata": {},
     "output_type": "execute_result"
    }
   ],
   "execution_count": 8,
   "source": [
    "df = df[['Sentence', 'Label', 'Split']]\n",
    "df.sample(10)"
   ],
   "id": "c202c9a654892055"
  },
  {
   "metadata": {},
   "cell_type": "markdown",
   "source": "Check size, NaN values, split sizes",
   "id": "e982451ab68cf122"
  },
  {
   "metadata": {
    "ExecuteTime": {
     "end_time": "2025-01-04T15:26:18.159092Z",
     "start_time": "2025-01-04T15:26:18.146056Z"
    }
   },
   "cell_type": "code",
   "outputs": [
    {
     "name": "stdout",
     "output_type": "stream",
     "text": [
      "<class 'pandas.core.frame.DataFrame'>\n",
      "RangeIndex: 9507 entries, 0 to 9506\n",
      "Data columns (total 3 columns):\n",
      " #   Column    Non-Null Count  Dtype \n",
      "---  ------    --------------  ----- \n",
      " 0   Sentence  9507 non-null   object\n",
      " 1   Label     9507 non-null   int64 \n",
      " 2   Split     9507 non-null   object\n",
      "dtypes: int64(1), object(2)\n",
      "memory usage: 222.9+ KB\n"
     ]
    }
   ],
   "execution_count": 9,
   "source": "df.info()",
   "id": "86ed772cebfc37a9"
  },
  {
   "metadata": {},
   "cell_type": "markdown",
   "source": "Check data balance:",
   "id": "4f6124ae2cf89ad8"
  },
  {
   "metadata": {
    "ExecuteTime": {
     "end_time": "2025-01-04T15:26:18.261104Z",
     "start_time": "2025-01-04T15:26:18.242226Z"
    }
   },
   "cell_type": "code",
   "outputs": [
    {
     "name": "stdout",
     "output_type": "stream",
     "text": [
      "Correct sentences: 6600\n",
      "Wrong sentences:   2907\n"
     ]
    }
   ],
   "execution_count": 10,
   "source": [
    "print(f'Correct sentences: {df[df['Label'] == 1].shape[0]}')\n",
    "print(f'Wrong sentences:   {df[df['Label'] == 0].shape[0]}')"
   ],
   "id": "61b5a8e384842ba"
  },
  {
   "metadata": {},
   "cell_type": "markdown",
   "source": [
    "## Data preprocessing for BERT model\n",
    "\n",
    "The pre-trained model used is a [base BERT for Spanish cased text](https://huggingface.co/dccuchile/bert-base-spanish-wwm-cased)"
   ],
   "id": "f585624eb25870ff"
  },
  {
   "metadata": {},
   "cell_type": "markdown",
   "source": "### Adding BERT tokens",
   "id": "e203aadcd765362a"
  },
  {
   "metadata": {
    "ExecuteTime": {
     "end_time": "2025-01-04T15:26:18.497660Z",
     "start_time": "2025-01-04T15:26:18.490382Z"
    }
   },
   "cell_type": "code",
   "outputs": [],
   "execution_count": 11,
   "source": [
    "sentences = [\"[CLS] \"+sentence+\" [SEP]\" for sentence in df['Sentence'].values]\n",
    "labels = df['Label'].values"
   ],
   "id": "5452bf7821d03844"
  },
  {
   "metadata": {},
   "cell_type": "markdown",
   "source": "### BERT tokenizer",
   "id": "ec3a3c6b690e8cc3"
  },
  {
   "metadata": {
    "ExecuteTime": {
     "end_time": "2025-01-04T15:26:18.958303Z",
     "start_time": "2025-01-04T15:26:18.626664Z"
    }
   },
   "cell_type": "code",
   "outputs": [],
   "execution_count": 12,
   "source": "tokenizer = BertTokenizer.from_pretrained('dccuchile/bert-base-spanish-wwm-cased')",
   "id": "c8cff33fa21dc727"
  },
  {
   "metadata": {
    "ExecuteTime": {
     "end_time": "2025-01-04T15:26:20.080445Z",
     "start_time": "2025-01-04T15:26:18.968811Z"
    }
   },
   "cell_type": "code",
   "outputs": [],
   "execution_count": 13,
   "source": "tokenized_sentences = [tokenizer.tokenize(sentence) for sentence in sentences]",
   "id": "c8f2c990da0ab5d5"
  },
  {
   "metadata": {
    "ExecuteTime": {
     "end_time": "2025-01-04T15:26:20.096888Z",
     "start_time": "2025-01-04T15:26:20.092613Z"
    }
   },
   "cell_type": "code",
   "outputs": [
    {
     "name": "stdout",
     "output_type": "stream",
     "text": [
      "Sentence: [CLS] Multitud de papeles rodaban por los suelos. [SEP]\n",
      "Label: 1\n",
      "Tokenized sentence: ['[CLS]', 'Multi', '##tud', 'de', 'papeles', 'ro', '##daba', '##n', 'por', 'los', 'suelos', '.', '[SEP]']\n"
     ]
    }
   ],
   "execution_count": 14,
   "source": [
    "sent_i = random.randint(0, len(sentences)-1)\n",
    "print(f'Sentence: {sentences[sent_i]}')\n",
    "print(f'Label: {labels[sent_i]}')\n",
    "print(f'Tokenized sentence: {tokenized_sentences[sent_i]}')"
   ],
   "id": "d1997c316b4a67e9"
  },
  {
   "metadata": {},
   "cell_type": "markdown",
   "source": "### Text preprocessing",
   "id": "a39c7de996b00dd1"
  },
  {
   "metadata": {
    "ExecuteTime": {
     "end_time": "2025-01-04T15:26:20.217873Z",
     "start_time": "2025-01-04T15:26:20.140218Z"
    }
   },
   "cell_type": "code",
   "outputs": [
    {
     "name": "stdout",
     "output_type": "stream",
     "text": [
      "Max tokenized sentence length: 60\n"
     ]
    }
   ],
   "execution_count": 15,
   "source": "print(f'Max tokenized sentence length: {max([len(tokenized) for tokenized in tokenized_sentences])}')",
   "id": "c581fd4792277d6a"
  },
  {
   "metadata": {},
   "cell_type": "markdown",
   "source": "We choose a max fixed length of 128",
   "id": "e27c35d8bba5e88a"
  },
  {
   "metadata": {
    "ExecuteTime": {
     "end_time": "2025-01-04T15:26:20.616246Z",
     "start_time": "2025-01-04T15:26:20.229678Z"
    }
   },
   "cell_type": "code",
   "outputs": [],
   "execution_count": 16,
   "source": [
    "# convert tokens to index number of its vocabulary\n",
    "token_ids_sentences = [tokenizer.convert_tokens_to_ids(sentence) for sentence in tokenized_sentences]\n",
    "\n",
    "def pad_sequences(sequences, max_len, padding_value=0):\n",
    "    padded_sequences = []\n",
    "    for seq in sequences:\n",
    "        # if shorter, pad it\n",
    "        if len(seq) < max_len:\n",
    "            padding_to_add = [padding_value] * (max_len - len(seq))\n",
    "            padded_seq = seq + padding_to_add\n",
    "        # if longer, truncate it\n",
    "        else:\n",
    "            padded_seq = seq[:max_len]\n",
    "        padded_sequences.append(padded_seq)\n",
    "\n",
    "    return torch.tensor(padded_sequences)\n",
    "\n",
    "# padding tokenized ids sentences to 128\n",
    "token_ids_sentences = pad_sequences(token_ids_sentences, max_len=128)"
   ],
   "id": "7f634d224c4e888b"
  },
  {
   "metadata": {},
   "cell_type": "markdown",
   "source": [
    "### Creating attention masks\n",
    "\n",
    "The model has to pay attention only to the actual tokens, and not for the ones that are padded (with a value of 0). So we create a mask to prevent it:"
   ],
   "id": "b7f47c7c5480b69"
  },
  {
   "metadata": {
    "ExecuteTime": {
     "end_time": "2025-01-04T15:26:26.288Z",
     "start_time": "2025-01-04T15:26:20.627906Z"
    }
   },
   "cell_type": "code",
   "outputs": [],
   "execution_count": 17,
   "source": [
    "attention_masks = []\n",
    "for sent in token_ids_sentences:\n",
    "    sent_mask = [float(id!=0) for id in sent]\n",
    "    attention_masks.append(sent_mask)"
   ],
   "id": "44a83d9ba9e177ab"
  },
  {
   "metadata": {},
   "cell_type": "markdown",
   "source": " ### Splitting dataset",
   "id": "47238ce038ea96ad"
  },
  {
   "metadata": {
    "ExecuteTime": {
     "end_time": "2025-01-04T15:26:26.316597Z",
     "start_time": "2025-01-04T15:26:26.303825Z"
    }
   },
   "cell_type": "code",
   "outputs": [
    {
     "name": "stdout",
     "output_type": "stream",
     "text": [
      "Train size: 8454\n",
      "Test size: 0\n",
      "Valid size: 1053\n"
     ]
    }
   ],
   "execution_count": 18,
   "source": [
    "print(f'Train size: {df[df['Split'] == 'train'].shape[0]}')\n",
    "print(f'Test size: {df[df['Split'] == 'test'].shape[0]}')\n",
    "print(f'Valid size: {df[df['Split'] == 'dev'].shape[0]}')"
   ],
   "id": "180a681b1d677459"
  },
  {
   "metadata": {},
   "cell_type": "markdown",
   "source": "I have no access to the test dataset file, so I will select 90% of the full dataset for training and 5% for test and valid\n",
   "id": "d529a2d92b7f4639"
  },
  {
   "metadata": {
    "ExecuteTime": {
     "end_time": "2025-01-04T15:26:26.473891Z",
     "start_time": "2025-01-04T15:26:26.348527Z"
    }
   },
   "cell_type": "code",
   "outputs": [
    {
     "name": "stdout",
     "output_type": "stream",
     "text": [
      "Train size: 8556\n",
      "Test size: 475\n",
      "Valid size: 476\n"
     ]
    }
   ],
   "execution_count": 19,
   "source": [
    "RANDOM_SEED = 42  # ensure consistent/aligned row values\n",
    "\n",
    "# perform the first split for train/test (tokens, labels, and masks together)\n",
    "train_tokens, temp_tokens, train_labels, temp_labels, train_masks, temp_masks = train_test_split(\n",
    "    token_ids_sentences, labels, attention_masks,\n",
    "    test_size=0.1,\n",
    "    random_state=RANDOM_SEED,\n",
    "    stratify=labels\n",
    ")\n",
    "\n",
    "# perform the second split for test/valid (tokens, labels, and masks together)\n",
    "test_tokens, valid_tokens, test_labels, valid_labels, test_masks, valid_masks = train_test_split(\n",
    "    temp_tokens, temp_labels, temp_masks,\n",
    "    test_size=0.5,\n",
    "    random_state=RANDOM_SEED,\n",
    "    stratify=temp_labels\n",
    ")\n",
    "\n",
    "print(f'Train size: {train_tokens.shape[0]}')\n",
    "print(f'Test size: {test_tokens.shape[0]}')\n",
    "print(f'Valid size: {valid_tokens.shape[0]}')"
   ],
   "id": "59b7b079d2e8e347"
  },
  {
   "metadata": {},
   "cell_type": "markdown",
   "source": "Convert them to tensors:",
   "id": "1d0dcdef132cf46d"
  },
  {
   "metadata": {
    "ExecuteTime": {
     "end_time": "2025-01-04T15:26:26.734751Z",
     "start_time": "2025-01-04T15:26:26.497893Z"
    }
   },
   "cell_type": "code",
   "outputs": [],
   "execution_count": 20,
   "source": [
    "train_tokens = torch.Tensor(train_tokens)\n",
    "train_labels = torch.Tensor(train_labels)\n",
    "train_masks = torch.Tensor(train_masks)\n",
    "\n",
    "test_tokens = torch.Tensor(test_tokens)\n",
    "test_labels = torch.Tensor(test_labels)\n",
    "test_masks = torch.Tensor(test_masks)\n",
    "\n",
    "valid_tokens = torch.Tensor(valid_tokens)\n",
    "valid_labels = torch.Tensor(valid_labels)\n",
    "valid_masks = torch.Tensor(valid_masks)"
   ],
   "id": "170927f245cdfd71"
  },
  {
   "metadata": {},
   "cell_type": "markdown",
   "source": "Creating iterators",
   "id": "1c0b0dc4961e08c6"
  },
  {
   "metadata": {
    "ExecuteTime": {
     "end_time": "2025-01-04T15:26:26.860578Z",
     "start_time": "2025-01-04T15:26:26.759246Z"
    }
   },
   "cell_type": "code",
   "outputs": [],
   "execution_count": 21,
   "source": [
    "batch_size = 16\n",
    "\n",
    "train_data = TensorDataset(train_tokens, train_masks, train_labels)\n",
    "train_sampler = RandomSampler(train_data) # random sample of data in each new epoch\n",
    "train_dataloader = DataLoader(train_data, batch_size=batch_size, sampler=train_sampler)\n",
    "\n",
    "valid_data = TensorDataset(valid_tokens, valid_masks, valid_labels)\n",
    "valid_sampler = SequentialSampler(valid_data)\n",
    "valid_dataloader = DataLoader(valid_data, batch_size=batch_size, sampler=valid_sampler)\n",
    "\n",
    "test_data = TensorDataset(test_tokens, test_masks, test_labels)\n",
    "test_sampler = SequentialSampler(test_data)\n",
    "test_dataloader = DataLoader(test_data, batch_size=batch_size, sampler=test_sampler)"
   ],
   "id": "47ab91cbe1f0405c"
  },
  {
   "metadata": {},
   "cell_type": "markdown",
   "source": "Let's inspect some values (the first 32 rows):",
   "id": "e1b0ae7b64e25b9f"
  },
  {
   "metadata": {
    "ExecuteTime": {
     "end_time": "2025-01-04T15:26:27.011338Z",
     "start_time": "2025-01-04T15:26:26.889989Z"
    }
   },
   "cell_type": "code",
   "outputs": [
    {
     "name": "stdout",
     "output_type": "stream",
     "text": [
      "Train Tokens Batch (IDs): tensor([[    4,  2903,  1471,  ...,     0,     0,     0],\n",
      "        [    4,  1162,  7112,  ...,     0,     0,     0],\n",
      "        [    4,  1378, 20486,  ...,     0,     0,     0],\n",
      "        ...,\n",
      "        [    4,   993,  3719,  ...,     0,     0,     0],\n",
      "        [    4, 29559,  1040,  ...,     0,     0,     0],\n",
      "        [    4, 15510, 24680,  ...,     0,     0,     0]])\n",
      "Train Attention Masks Batch: tensor([[1., 1., 1.,  ..., 0., 0., 0.],\n",
      "        [1., 1., 1.,  ..., 0., 0., 0.],\n",
      "        [1., 1., 1.,  ..., 0., 0., 0.],\n",
      "        ...,\n",
      "        [1., 1., 1.,  ..., 0., 0., 0.],\n",
      "        [1., 1., 1.,  ..., 0., 0., 0.],\n",
      "        [1., 1., 1.,  ..., 0., 0., 0.]])\n",
      "Train Labels Batch: tensor([1., 1., 1., 1., 1., 1., 0., 1., 0., 1., 1., 1., 0., 1., 1., 1.])\n"
     ]
    }
   ],
   "execution_count": 22,
   "source": [
    "batch = next(iter(train_dataloader))\n",
    "train_tokens_batch, train_masks_batch, train_labels_batch = batch\n",
    "\n",
    "print(\"Train Tokens Batch (IDs):\", train_tokens_batch)\n",
    "print(\"Train Attention Masks Batch:\", train_masks_batch)\n",
    "print(\"Train Labels Batch:\", train_labels_batch)"
   ],
   "id": "afb97b10d2d6e64e"
  },
  {
   "metadata": {
    "ExecuteTime": {
     "end_time": "2025-01-04T15:26:27.157687Z",
     "start_time": "2025-01-04T15:26:27.053340Z"
    }
   },
   "cell_type": "code",
   "outputs": [
    {
     "name": "stdout",
     "output_type": "stream",
     "text": [
      "\n",
      "Decoded Sentence: Hicieron el camino cantando todo el tiempo.\n",
      "Label: 1.0\n"
     ]
    }
   ],
   "execution_count": 23,
   "source": [
    "# decode a sentence in the batch\n",
    "i = random.randint(0,batch_size-1)\n",
    "i_sentence_ids = train_tokens_batch[i]\n",
    "i_decoded_sentence = tokenizer.decode(i_sentence_ids, skip_special_tokens=True)\n",
    "\n",
    "i_label = train_labels_batch[i].item()\n",
    "\n",
    "print(\"\\nDecoded Sentence:\", i_decoded_sentence)\n",
    "print(\"Label:\", i_label)"
   ],
   "id": "34f515bc4a99b354"
  },
  {
   "metadata": {},
   "cell_type": "markdown",
   "source": "## Fine-tuning HuggingFace BERT model",
   "id": "6f4c2af6e3a2a216"
  },
  {
   "metadata": {
    "ExecuteTime": {
     "end_time": "2025-01-04T15:26:27.981970Z",
     "start_time": "2025-01-04T15:26:27.222608Z"
    }
   },
   "cell_type": "code",
   "outputs": [
    {
     "name": "stderr",
     "output_type": "stream",
     "text": [
      "Some weights of BertForSequenceClassification were not initialized from the model checkpoint at dccuchile/bert-base-spanish-wwm-cased and are newly initialized: ['bert.pooler.dense.bias', 'bert.pooler.dense.weight', 'classifier.bias', 'classifier.weight']\n",
      "You should probably TRAIN this model on a down-stream task to be able to use it for predictions and inference.\n"
     ]
    }
   ],
   "execution_count": 24,
   "source": [
    "model = BertForSequenceClassification.from_pretrained(\n",
    "    'dccuchile/bert-base-spanish-wwm-cased',\n",
    "    num_labels=2,\n",
    ")"
   ],
   "id": "d0586e1a488c5753"
  },
  {
   "metadata": {
    "ExecuteTime": {
     "end_time": "2025-01-04T15:26:28.227032Z",
     "start_time": "2025-01-04T15:26:27.999472Z"
    }
   },
   "cell_type": "code",
   "outputs": [
    {
     "data": {
      "text/plain": [
       "DataParallel(\n",
       "  (module): BertForSequenceClassification(\n",
       "    (bert): BertModel(\n",
       "      (embeddings): BertEmbeddings(\n",
       "        (word_embeddings): Embedding(31002, 768, padding_idx=1)\n",
       "        (position_embeddings): Embedding(512, 768)\n",
       "        (token_type_embeddings): Embedding(2, 768)\n",
       "        (LayerNorm): LayerNorm((768,), eps=1e-12, elementwise_affine=True)\n",
       "        (dropout): Dropout(p=0.1, inplace=False)\n",
       "      )\n",
       "      (encoder): BertEncoder(\n",
       "        (layer): ModuleList(\n",
       "          (0-11): 12 x BertLayer(\n",
       "            (attention): BertAttention(\n",
       "              (self): BertSdpaSelfAttention(\n",
       "                (query): Linear(in_features=768, out_features=768, bias=True)\n",
       "                (key): Linear(in_features=768, out_features=768, bias=True)\n",
       "                (value): Linear(in_features=768, out_features=768, bias=True)\n",
       "                (dropout): Dropout(p=0.1, inplace=False)\n",
       "              )\n",
       "              (output): BertSelfOutput(\n",
       "                (dense): Linear(in_features=768, out_features=768, bias=True)\n",
       "                (LayerNorm): LayerNorm((768,), eps=1e-12, elementwise_affine=True)\n",
       "                (dropout): Dropout(p=0.1, inplace=False)\n",
       "              )\n",
       "            )\n",
       "            (intermediate): BertIntermediate(\n",
       "              (dense): Linear(in_features=768, out_features=3072, bias=True)\n",
       "              (intermediate_act_fn): GELUActivation()\n",
       "            )\n",
       "            (output): BertOutput(\n",
       "              (dense): Linear(in_features=3072, out_features=768, bias=True)\n",
       "              (LayerNorm): LayerNorm((768,), eps=1e-12, elementwise_affine=True)\n",
       "              (dropout): Dropout(p=0.1, inplace=False)\n",
       "            )\n",
       "          )\n",
       "        )\n",
       "      )\n",
       "      (pooler): BertPooler(\n",
       "        (dense): Linear(in_features=768, out_features=768, bias=True)\n",
       "        (activation): Tanh()\n",
       "      )\n",
       "    )\n",
       "    (dropout): Dropout(p=0.1, inplace=False)\n",
       "    (classifier): Linear(in_features=768, out_features=2, bias=True)\n",
       "  )\n",
       ")"
      ]
     },
     "execution_count": 25,
     "metadata": {},
     "output_type": "execute_result"
    }
   ],
   "execution_count": 25,
   "source": [
    "device = torch.device('cuda' if torch.cuda.is_available() else 'cpu')\n",
    "\n",
    "model = nn.DataParallel(model)\n",
    "model.to(device)"
   ],
   "id": "c0e8e2c71d5359aa"
  },
  {
   "metadata": {},
   "cell_type": "markdown",
   "source": "Now define optimizer:",
   "id": "227fbde6f6a109a7"
  },
  {
   "metadata": {
    "ExecuteTime": {
     "end_time": "2025-01-04T15:26:28.291656Z",
     "start_time": "2025-01-04T15:26:28.287137Z"
    }
   },
   "cell_type": "code",
   "outputs": [],
   "execution_count": 26,
   "source": [
    "# list all parameters in the model\n",
    "param_optimizer = list(model.named_parameters())\n",
    "\n",
    "# define parameters where weight decay should NOT be applied\n",
    "# (the BERT doesn't have 'gamma' or 'beta' parameters, only 'bias' terms)\n",
    "no_decay = ['bias', 'LayerNorm.weight']\n",
    "# weight decay regularization will not be applied to the bias and LayerNorm.weight to avoid  overfitting\n",
    "\n",
    "# group the parameters based on whether weight decay should be applied or not\n",
    "optimizer_grouped_parameters = [\n",
    "    # group 1: parameters that should use weight decay (i.e., the weights)\n",
    "    {\n",
    "        'params': [p for n, p in param_optimizer if not any(nd in n for nd in no_decay)],\n",
    "        'weight_decay_rate': 0.15  # apply weight decay to weights with a rate of 0.1\n",
    "    },\n",
    "\n",
    "    # group 2: parameters that should NOT use weight decay (i.e., biases and LayerNorm)\n",
    "    {\n",
    "        'params': [p for n, p in param_optimizer if any(nd in n for nd in no_decay)],\n",
    "        'weight_decay_rate': 0.0  # Do NOT apply weight decay to biases and LayerNorm\n",
    "    }\n",
    "]"
   ],
   "id": "4e1aaf2d6d027f46"
  },
  {
   "metadata": {},
   "cell_type": "markdown",
   "source": "The parameters have been retrieved, and the model is ready for the training loop.",
   "id": "e9976b396f8d903"
  },
  {
   "metadata": {
    "ExecuteTime": {
     "end_time": "2025-01-04T15:26:29.087868Z",
     "start_time": "2025-01-04T15:26:28.303848Z"
    }
   },
   "cell_type": "code",
   "outputs": [],
   "execution_count": 27,
   "source": [
    "epochs = 4\n",
    "\n",
    "optimizer = torch.optim.AdamW(optimizer_grouped_parameters,\n",
    "                              lr = 1.5e-5,\n",
    "                              eps = 1e-8\n",
    "                              )\n",
    "# total number of training steps is number of batches * number of epochs\n",
    "total_steps = len(train_dataloader) * epochs\n",
    "\n",
    "# create the learning rate scheduler\n",
    "scheduler = get_linear_schedule_with_warmup(optimizer,\n",
    "                                            num_warmup_steps = 0,\n",
    "                                            num_training_steps = total_steps\n",
    "                                            )"
   ],
   "id": "e2494c037ff70259"
  },
  {
   "metadata": {
    "ExecuteTime": {
     "end_time": "2025-01-04T15:26:29.254011Z",
     "start_time": "2025-01-04T15:26:29.249940Z"
    }
   },
   "cell_type": "code",
   "outputs": [],
   "execution_count": 28,
   "source": [
    "def accuracy(pred, labels):\n",
    "    pred_flat = np.argmax(pred, axis=1).flatten()\n",
    "    labels_flat = labels.flatten()\n",
    "    acc = np.sum(pred_flat == labels_flat) / len(pred_flat)\n",
    "    return acc\n",
    "\n",
    "def precision(pred, labels):\n",
    "    pred_flat = np.argmax(pred, axis=1).flatten()\n",
    "    labels_flat = labels.flatten()\n",
    "    f1 = sklearn.metrics.precision_score(labels_flat, pred_flat)\n",
    "    return f1"
   ],
   "id": "7cc461464aa9891b"
  },
  {
   "metadata": {},
   "cell_type": "markdown",
   "source": "### Training loop:",
   "id": "c6dea3588991c6d2"
  },
  {
   "metadata": {
    "ExecuteTime": {
     "end_time": "2025-01-04T16:12:16.086750Z",
     "start_time": "2025-01-04T15:26:29.308388Z"
    }
   },
   "cell_type": "code",
   "outputs": [
    {
     "name": "stdout",
     "output_type": "stream",
     "text": [
      "Epoch 1/4\n",
      "    Training Step 53/535: Loss: 0.615, Accuracy: 0.696, Precision: 0.701\n",
      "    Validation Stats - Loss: 0.583, Accuracy: 0.696, Precision: 0.696\n",
      "    Training Step 106/535: Loss: 0.587, Accuracy: 0.706, Precision: 0.718\n",
      "    Validation Stats - Loss: 0.540, Accuracy: 0.753, Precision: 0.759\n",
      "    Training Step 159/535: Loss: 0.564, Accuracy: 0.724, Precision: 0.742\n",
      "    Validation Stats - Loss: 0.560, Accuracy: 0.753, Precision: 0.747\n",
      "    Training Step 212/535: Loss: 0.563, Accuracy: 0.726, Precision: 0.743\n",
      "    Validation Stats - Loss: 0.486, Accuracy: 0.783, Precision: 0.806\n",
      "    Training Step 265/535: Loss: 0.549, Accuracy: 0.736, Precision: 0.755\n",
      "    Validation Stats - Loss: 0.490, Accuracy: 0.781, Precision: 0.809\n",
      "    Training Step 318/535: Loss: 0.546, Accuracy: 0.738, Precision: 0.761\n",
      "    Validation Stats - Loss: 0.485, Accuracy: 0.786, Precision: 0.787\n",
      "    Training Step 371/535: Loss: 0.540, Accuracy: 0.741, Precision: 0.763\n",
      "    Validation Stats - Loss: 0.491, Accuracy: 0.774, Precision: 0.773\n",
      "    Training Step 424/535: Loss: 0.537, Accuracy: 0.744, Precision: 0.765\n",
      "    Validation Stats - Loss: 0.467, Accuracy: 0.799, Precision: 0.797\n",
      "    Training Step 477/535: Loss: 0.532, Accuracy: 0.748, Precision: 0.769\n",
      "    Validation Stats - Loss: 0.529, Accuracy: 0.756, Precision: 0.748\n",
      "    Training Step 530/535: Loss: 0.530, Accuracy: 0.749, Precision: 0.770\n",
      "    Validation Stats - Loss: 0.442, Accuracy: 0.797, Precision: 0.799\n",
      "Epoch 1 Summary:\n",
      "    Train Loss: 0.530, Train Accuracy: 0.749, Train Precision: 0.770\n",
      "    Valid Loss: 0.442, Valid Accuracy: 0.797, Valid Precision: 0.799\n",
      "Epoch 2/4\n",
      "    Training Step 53/535: Loss: 0.323, Accuracy: 0.875, Precision: 0.885\n",
      "    Validation Stats - Loss: 0.523, Accuracy: 0.809, Precision: 0.809\n",
      "    Training Step 106/535: Loss: 0.325, Accuracy: 0.869, Precision: 0.883\n",
      "    Validation Stats - Loss: 0.466, Accuracy: 0.814, Precision: 0.836\n",
      "    Training Step 159/535: Loss: 0.333, Accuracy: 0.866, Precision: 0.883\n",
      "    Validation Stats - Loss: 0.481, Accuracy: 0.817, Precision: 0.820\n",
      "    Training Step 212/535: Loss: 0.338, Accuracy: 0.862, Precision: 0.880\n",
      "    Validation Stats - Loss: 0.523, Accuracy: 0.806, Precision: 0.808\n",
      "    Training Step 265/535: Loss: 0.340, Accuracy: 0.863, Precision: 0.880\n",
      "    Validation Stats - Loss: 0.525, Accuracy: 0.808, Precision: 0.803\n",
      "    Training Step 318/535: Loss: 0.345, Accuracy: 0.859, Precision: 0.874\n",
      "    Validation Stats - Loss: 0.476, Accuracy: 0.819, Precision: 0.826\n",
      "    Training Step 371/535: Loss: 0.343, Accuracy: 0.858, Precision: 0.875\n",
      "    Validation Stats - Loss: 0.495, Accuracy: 0.797, Precision: 0.798\n",
      "    Training Step 424/535: Loss: 0.342, Accuracy: 0.859, Precision: 0.876\n",
      "    Validation Stats - Loss: 0.503, Accuracy: 0.809, Precision: 0.810\n",
      "    Training Step 477/535: Loss: 0.341, Accuracy: 0.858, Precision: 0.876\n",
      "    Validation Stats - Loss: 0.513, Accuracy: 0.812, Precision: 0.814\n",
      "    Training Step 530/535: Loss: 0.342, Accuracy: 0.858, Precision: 0.876\n",
      "    Validation Stats - Loss: 0.444, Accuracy: 0.824, Precision: 0.840\n",
      "Epoch 2 Summary:\n",
      "    Train Loss: 0.342, Train Accuracy: 0.858, Train Precision: 0.876\n",
      "    Valid Loss: 0.444, Valid Accuracy: 0.824, Valid Precision: 0.840\n",
      "Epoch 3/4\n",
      "    Training Step 53/535: Loss: 0.190, Accuracy: 0.925, Precision: 0.935\n",
      "    Validation Stats - Loss: 0.630, Accuracy: 0.812, Precision: 0.813\n",
      "    Training Step 106/535: Loss: 0.208, Accuracy: 0.923, Precision: 0.937\n",
      "    Validation Stats - Loss: 0.705, Accuracy: 0.813, Precision: 0.805\n",
      "    Training Step 159/535: Loss: 0.202, Accuracy: 0.926, Precision: 0.939\n",
      "    Validation Stats - Loss: 0.609, Accuracy: 0.830, Precision: 0.825\n",
      "    Training Step 212/535: Loss: 0.205, Accuracy: 0.927, Precision: 0.938\n",
      "    Validation Stats - Loss: 0.602, Accuracy: 0.830, Precision: 0.834\n",
      "    Training Step 265/535: Loss: 0.207, Accuracy: 0.926, Precision: 0.936\n",
      "    Validation Stats - Loss: 0.602, Accuracy: 0.838, Precision: 0.836\n",
      "    Training Step 318/535: Loss: 0.199, Accuracy: 0.929, Precision: 0.938\n",
      "    Validation Stats - Loss: 0.640, Accuracy: 0.833, Precision: 0.835\n",
      "    Training Step 371/535: Loss: 0.203, Accuracy: 0.928, Precision: 0.939\n",
      "    Validation Stats - Loss: 0.650, Accuracy: 0.836, Precision: 0.827\n",
      "    Training Step 424/535: Loss: 0.202, Accuracy: 0.928, Precision: 0.940\n",
      "    Validation Stats - Loss: 0.694, Accuracy: 0.830, Precision: 0.817\n",
      "    Training Step 477/535: Loss: 0.201, Accuracy: 0.928, Precision: 0.939\n",
      "    Validation Stats - Loss: 0.660, Accuracy: 0.828, Precision: 0.819\n",
      "    Training Step 530/535: Loss: 0.206, Accuracy: 0.926, Precision: 0.938\n",
      "    Validation Stats - Loss: 0.566, Accuracy: 0.840, Precision: 0.841\n",
      "Epoch 3 Summary:\n",
      "    Train Loss: 0.206, Train Accuracy: 0.926, Train Precision: 0.938\n",
      "    Valid Loss: 0.566, Valid Accuracy: 0.840, Valid Precision: 0.841\n",
      "Epoch 4/4\n",
      "    Training Step 53/535: Loss: 0.094, Accuracy: 0.969, Precision: 0.976\n",
      "    Validation Stats - Loss: 0.718, Accuracy: 0.834, Precision: 0.831\n",
      "    Training Step 106/535: Loss: 0.131, Accuracy: 0.957, Precision: 0.960\n",
      "    Validation Stats - Loss: 0.677, Accuracy: 0.835, Precision: 0.850\n",
      "    Training Step 159/535: Loss: 0.129, Accuracy: 0.958, Precision: 0.962\n",
      "    Validation Stats - Loss: 0.739, Accuracy: 0.835, Precision: 0.833\n",
      "    Training Step 212/535: Loss: 0.122, Accuracy: 0.960, Precision: 0.965\n",
      "    Validation Stats - Loss: 0.760, Accuracy: 0.838, Precision: 0.835\n",
      "    Training Step 265/535: Loss: 0.123, Accuracy: 0.960, Precision: 0.964\n",
      "    Validation Stats - Loss: 0.788, Accuracy: 0.833, Precision: 0.831\n",
      "    Training Step 318/535: Loss: 0.127, Accuracy: 0.959, Precision: 0.963\n",
      "    Validation Stats - Loss: 0.773, Accuracy: 0.838, Precision: 0.837\n",
      "    Training Step 371/535: Loss: 0.131, Accuracy: 0.958, Precision: 0.962\n",
      "    Validation Stats - Loss: 0.749, Accuracy: 0.833, Precision: 0.836\n",
      "    Training Step 424/535: Loss: 0.130, Accuracy: 0.959, Precision: 0.963\n",
      "    Validation Stats - Loss: 0.761, Accuracy: 0.833, Precision: 0.837\n",
      "    Training Step 477/535: Loss: 0.131, Accuracy: 0.958, Precision: 0.963\n",
      "    Validation Stats - Loss: 0.766, Accuracy: 0.833, Precision: 0.835\n",
      "    Training Step 530/535: Loss: 0.137, Accuracy: 0.956, Precision: 0.961\n",
      "    Validation Stats - Loss: 0.769, Accuracy: 0.835, Precision: 0.836\n",
      "Epoch 4 Summary:\n",
      "    Train Loss: 0.137, Train Accuracy: 0.956, Train Precision: 0.961\n",
      "    Valid Loss: 0.769, Valid Accuracy: 0.835, Valid Precision: 0.836\n"
     ]
    }
   ],
   "execution_count": 29,
   "source": [
    "# initialize lists for stats\n",
    "train_losses, train_accuracies, train_precisions = [], [], []\n",
    "valid_losses, valid_accuracies, valid_precisions = [], [], []\n",
    "\n",
    "# loop over epochs\n",
    "for epoch in range(epochs):\n",
    "    print(f\"Epoch {epoch+1}/{epochs}\")\n",
    "\n",
    "    # training phase\n",
    "    model.train()\n",
    "    total_train_loss, total_train_acc, total_train_precision = 0, 0, 0\n",
    "    step_count = 0\n",
    "\n",
    "    for batch in train_dataloader:\n",
    "        step_count += 1\n",
    "\n",
    "        batch_tokens, batch_masks, batch_labels = [tensor.to(device) for tensor in batch]\n",
    "\n",
    "        model.zero_grad()\n",
    "        outputs = model(batch_tokens, attention_mask=batch_masks, labels=batch_labels.long())\n",
    "        loss, logits = outputs.loss, outputs.logits\n",
    "\n",
    "        total_train_loss += loss.item()\n",
    "        logits = logits.detach().cpu().numpy()\n",
    "        labels = batch_labels.cpu().numpy()\n",
    "\n",
    "        batch_acc = accuracy(logits, labels)\n",
    "        batch_precision = precision(logits, labels)\n",
    "\n",
    "        total_train_acc += batch_acc\n",
    "        total_train_precision += batch_precision\n",
    "\n",
    "        loss.backward()\n",
    "        nn.utils.clip_grad_norm_(model.parameters(), max_norm=1.0)\n",
    "        optimizer.step()\n",
    "        scheduler.step()\n",
    "\n",
    "        # print every steps for epoch / 10 steps and save stats\n",
    "        if step_count % (len(train_dataloader) // 10) == 0:\n",
    "            avg_train_loss = total_train_loss / step_count\n",
    "            avg_train_acc = total_train_acc / step_count\n",
    "            avg_train_precision = total_train_precision / step_count\n",
    "\n",
    "            train_losses.append(avg_train_loss)\n",
    "            train_accuracies.append(avg_train_acc)\n",
    "            train_precisions.append(avg_train_precision)\n",
    "\n",
    "            print(f\"    Training Step {step_count}/{len(train_dataloader)}: Loss: {avg_train_loss:.3f}, Accuracy: {avg_train_acc:.3f}, Precision: {avg_train_precision:.3f}\")\n",
    "\n",
    "            # validation phase\n",
    "            model.eval()\n",
    "            total_valid_loss, total_valid_acc, total_valid_precision = 0, 0, 0\n",
    "\n",
    "            with torch.no_grad():\n",
    "                for batch in valid_dataloader:\n",
    "                    batch_tokens, batch_masks, batch_labels = [tensor.to(device) for tensor in batch]\n",
    "\n",
    "                    outputs = model(batch_tokens, attention_mask=batch_masks, labels=batch_labels.long())\n",
    "                    loss, logits = outputs.loss, outputs.logits\n",
    "\n",
    "                    total_valid_loss += loss.item()\n",
    "                    logits = logits.cpu().numpy()\n",
    "                    labels = batch_labels.cpu().numpy()\n",
    "\n",
    "                    total_valid_acc += accuracy(logits, labels)\n",
    "                    total_valid_precision += precision(logits, labels)\n",
    "\n",
    "            avg_valid_loss = total_valid_loss / len(valid_dataloader)\n",
    "            avg_valid_acc = total_valid_acc / len(valid_dataloader)\n",
    "            avg_valid_precision = total_valid_precision / len(valid_dataloader)\n",
    "\n",
    "            valid_losses.append(avg_valid_loss)\n",
    "            valid_accuracies.append(avg_valid_acc)\n",
    "            valid_precisions.append(avg_valid_precision)\n",
    "\n",
    "            print(f\"    Validation Stats - Loss: {avg_valid_loss:.3f}, Accuracy: {avg_valid_acc:.3f}, Precision: {avg_valid_precision:.3f}\")\n",
    "\n",
    "            # trigger early stopping if stats reach a high value\n",
    "            if avg_train_acc > 0.99 or avg_train_precision > 0.99 or avg_train_loss < 0.02:\n",
    "                print(f\"Early stopping triggered at Epoch {epoch+1}, Step {step_count}/{len(train_dataloader)}\")\n",
    "                print(f\"Final Train Stats - Loss: {avg_train_loss:.3f}, Accuracy: {avg_train_acc:.3f}, Precision: {avg_train_precision:.3f}\")\n",
    "                print(f\"Final Valid Stats - Loss: {avg_valid_loss:.3f}, Accuracy: {avg_valid_acc:.3f}, Precision: {avg_valid_precision:.3f}\")\n",
    "                exit()\n",
    "\n",
    "            model.train()  # set back to training mode\n",
    "\n",
    "    print(f\"Epoch {epoch+1} Summary:\")\n",
    "    print(f\"    Train Loss: {avg_train_loss:.3f}, Train Accuracy: {avg_train_acc:.3f}, Train Precision: {avg_train_precision:.3f}\")\n",
    "    print(f\"    Valid Loss: {avg_valid_loss:.3f}, Valid Accuracy: {avg_valid_acc:.3f}, Valid Precision: {avg_valid_precision:.3f}\")"
   ],
   "id": "b4a896e99816f60"
  },
  {
   "metadata": {
    "ExecuteTime": {
     "end_time": "2025-01-04T16:12:17.294148Z",
     "start_time": "2025-01-04T16:12:16.718116Z"
    }
   },
   "cell_type": "code",
   "outputs": [],
   "execution_count": 30,
   "source": [
    "# torch.save(model.module.state_dict(), 'model_weights_parallel.pth')\n",
    "torch.save(model.module.state_dict(), 'model_weights_parallel_2.pth')"
   ],
   "id": "b3213d011cbba113"
  },
  {
   "metadata": {
    "ExecuteTime": {
     "end_time": "2025-01-04T22:04:11.276573Z",
     "start_time": "2025-01-04T22:04:10.696410Z"
    }
   },
   "cell_type": "code",
   "source": [
    "import matplotlib.pyplot as plt\n",
    "\n",
    "def plot_training_stats(step_stats, stat_name, ylabel):\n",
    "    train_steps, train_values, valid_steps, valid_values = step_stats\n",
    "    plt.figure(figsize=(8, 4))\n",
    "    plt.plot(train_steps, train_values, label=f\"Train {stat_name}\", color=\"blue\")\n",
    "    plt.plot(valid_steps, valid_values, label=f\"Validation {stat_name}\", color=\"orange\")\n",
    "    plt.xlabel(\"Steps\")\n",
    "    plt.ylabel(ylabel)\n",
    "    plt.ylim([0,1])\n",
    "    plt.title(f\"Training and Validation {stat_name}\")\n",
    "    plt.legend()\n",
    "    plt.grid()\n",
    "    plt.show()\n",
    "\n",
    "# step-wise stats for plotting\n",
    "train_steps = list(range(len(train_losses)))\n",
    "valid_steps = [i for i in range(len(valid_losses))]\n",
    "\n",
    "plot_training_stats(\n",
    "    (train_steps, train_losses, valid_steps, valid_losses),\n",
    "    stat_name=\"Loss\",\n",
    "    ylabel=\"Loss\"\n",
    ")\n",
    "\n",
    "plot_training_stats(\n",
    "    (train_steps, train_accuracies, valid_steps, valid_accuracies),\n",
    "    stat_name=\"Accuracy\",\n",
    "    ylabel=\"Accuracy\"\n",
    ")\n",
    "\n",
    "plot_training_stats(\n",
    "    (train_steps, train_precisions, valid_steps, valid_precisions),\n",
    "    stat_name=\"Precision\",\n",
    "    ylabel=\"Precision\"\n",
    ")"
   ],
   "id": "9d86ef51831282e8",
   "outputs": [
    {
     "data": {
      "text/plain": [
       "<Figure size 800x400 with 1 Axes>"
      ],
      "image/png": "[encoded data removed]"
     },
     "metadata": {},
     "output_type": "display_data"
    },
    {
     "data": {
      "text/plain": [
       "<Figure size 800x400 with 1 Axes>"
      ],
      "image/png": "[encoded data removed]"
     },
     "metadata": {},
     "output_type": "display_data"
    },
    {
     "data": {
      "text/plain": [
       "<Figure size 800x400 with 1 Axes>"
      ],
      "image/png": "[encoded data removed]"
     },
     "metadata": {},
     "output_type": "display_data"
    }
   ],
   "execution_count": 53
  },
  {
   "metadata": {},
   "cell_type": "markdown",
   "source": [
    "The training and validation metrics obtained during the training, reveal the following insights:\n",
    "\n",
    "1. **Loss**: The training loss consistently decreases, indicating that the model is learning during training. However, the validation loss shows more fluctuation and an upward trend after a certain point, suggesting potential overfitting.\n",
    "\n",
    "2. **Accuracy**: Training accuracy improves steadily, nearing 1.0. Validation accuracy plateaus after an initial increase, indicating limited generalization improvement over time.\n",
    "\n",
    "3. **Precision**: Training precision improves similarly to accuracy. Validation precision stabilizes early but remains lower than training precision, highlighting potential overfitting or class imbalance.\n",
    "\n",
    "Overall, the model performs well on the training set but struggles to generalize effectively, as shown by the gap between training and validation metrics."
   ],
   "id": "9dfb8ec4dfd18fc8"
  },
  {
   "metadata": {
    "ExecuteTime": {
     "end_time": "2025-01-04T21:46:22.225433Z",
     "start_time": "2025-01-04T21:46:09.798292Z"
    }
   },
   "cell_type": "code",
   "outputs": [],
   "execution_count": 35,
   "source": [
    "from sklearn.metrics import confusion_matrix\n",
    "import seaborn as sns\n",
    "\n",
    "total_test_loss, total_test_acc, total_test_precision = 0, 0, 0\n",
    "true_labels = []\n",
    "predicted_labels = []\n",
    "\n",
    "model.eval()\n",
    "\n",
    "with torch.no_grad():\n",
    "    for batch in test_dataloader:\n",
    "        batch_tokens, batch_masks, batch_labels = [tensor.to(device) for tensor in batch]\n",
    "        outputs = model(batch_tokens, attention_mask=batch_masks, labels=batch_labels.long())\n",
    "        loss, logits = outputs.loss, outputs.logits\n",
    "\n",
    "        total_test_loss += loss.item()\n",
    "        logits = logits.cpu().numpy()\n",
    "        labels = batch_labels.cpu().numpy()\n",
    "\n",
    "        # Append true and predicted labels for confusion matrix\n",
    "        true_labels.extend(labels)\n",
    "        predicted_labels.extend(np.argmax(logits, axis=1))\n",
    "\n",
    "        # sum batch stats\n",
    "        total_test_acc += accuracy(logits, labels)\n",
    "        total_test_precision += precision(logits, labels)\n",
    "\n",
    "# calculate avgs\n",
    "test_loss = total_test_loss / len(test_dataloader)\n",
    "test_acc = total_test_acc / len(test_dataloader)\n",
    "test_precision = total_test_precision / len(test_dataloader)"
   ],
   "id": "ac1b929360924591"
  },
  {
   "metadata": {
    "ExecuteTime": {
     "end_time": "2025-01-04T21:46:22.505908Z",
     "start_time": "2025-01-04T21:46:22.275038Z"
    }
   },
   "cell_type": "code",
   "outputs": [
    {
     "name": "stdout",
     "output_type": "stream",
     "text": [
      "Test Results:\n",
      "  Loss: 0.926\n",
      "  Accuracy: 0.792\n",
      "  Precision: 0.830\n"
     ]
    },
    {
     "data": {
      "text/plain": [
       "<Figure size 640x480 with 2 Axes>"
      ],
      "image/png": "[encoded data removed]"
     },
     "metadata": {},
     "output_type": "display_data"
    }
   ],
   "execution_count": 36,
   "source": [
    "conf_matrix = confusion_matrix(true_labels, predicted_labels)\n",
    "sns.heatmap(conf_matrix, annot=True, fmt=\"d\", cmap=\"coolwarm\")\n",
    "plt.ylabel('True label')\n",
    "plt.xlabel('Predicted label')\n",
    "plt.title('Confusion matrix', fontsize=15)\n",
    "plt.tight_layout()\n",
    "\n",
    "print(\"Test Results:\")\n",
    "print(f\"  Loss: {test_loss:.3f}\")\n",
    "print(f\"  Accuracy: {test_acc:.3f}\")\n",
    "print(f\"  Precision: {test_precision:.3f}\")"
   ],
   "id": "cb845e727e425b3e"
  },
  {
   "metadata": {},
   "cell_type": "markdown",
   "source": [
    "The model correctly identifies 294 positive samples (True Positives) and 82 negative samples (True Negatives). However, it misclassifies 63 negatives as positives (False Positives) and 36 positives as negatives (False Negatives).\n",
    "\n",
    "The higher count of False Positives suggests the model **over-predicts the positive class**, possibly due to **dataset imbalance**, a **small dataset** or learned biases. Addressing this could involve adjusting the classification threshold, balancing the dataset, or applying regularization.\n",
    "\n",
    "While the model performs well overall, reducing False Negatives is crucial in scenarios where missing positive cases is costly. Optimization techniques like fine-tuning, better preprocessing, or targeted augmentation could further enhance performance."
   ],
   "id": "a73610d6001391d9"
  },
  {
   "metadata": {},
   "cell_type": "markdown",
   "source": "### With lower threshold",
   "id": "505bca47d6690955"
  },
  {
   "metadata": {
    "ExecuteTime": {
     "end_time": "2025-01-04T22:10:07.849902Z",
     "start_time": "2025-01-04T22:09:56.063620Z"
    }
   },
   "cell_type": "code",
   "source": [
    "total_test_loss, total_test_acc, total_test_precision = 0, 0, 0\n",
    "true_labels = []\n",
    "predicted_labels = []\n",
    "\n",
    "model.eval()\n",
    "new_threshold = 0.99  # Lower threshold\n",
    "\n",
    "with torch.no_grad():\n",
    "    for batch in test_dataloader:\n",
    "        batch_tokens, batch_masks, batch_labels = [tensor.to(device) for tensor in batch]\n",
    "        outputs = model(batch_tokens, attention_mask=batch_masks, labels=batch_labels.long())\n",
    "        loss, logits = outputs.loss, outputs.logits\n",
    "\n",
    "        total_test_loss += loss.item()\n",
    "        logits = logits.cpu().numpy()\n",
    "        labels = batch_labels.cpu().numpy()\n",
    "\n",
    "        # apply the new threshold\n",
    "        # convert logits to probabilities using softmax\n",
    "        probs = torch.softmax(torch.tensor(logits), dim=1).numpy()\n",
    "        predictions = (probs[:, 1] > new_threshold).astype(int)\n",
    "\n",
    "        # append true and predicted labels for confusion matrix\n",
    "        true_labels.extend(labels)\n",
    "        predicted_labels.extend(predictions)\n",
    "\n",
    "        # sum batch stats\n",
    "        total_test_acc += accuracy(logits, labels)\n",
    "        total_test_precision += precision(logits, labels)\n",
    "\n",
    "# calculate avgs\n",
    "test_loss = total_test_loss / len(test_dataloader)\n",
    "test_acc = total_test_acc / len(test_dataloader)\n",
    "test_precision = total_test_precision / len(test_dataloader)"
   ],
   "id": "ba897de3b2532747",
   "outputs": [],
   "execution_count": 56
  },
  {
   "metadata": {
    "ExecuteTime": {
     "end_time": "2025-01-04T22:10:23.582035Z",
     "start_time": "2025-01-04T22:10:23.227557Z"
    }
   },
   "cell_type": "code",
   "source": [
    "conf_matrix = confusion_matrix(true_labels, predicted_labels)\n",
    "sns.heatmap(conf_matrix, annot=True, fmt=\"d\", cmap=\"coolwarm\")\n",
    "plt.ylabel('True label')\n",
    "plt.xlabel('Predicted label')\n",
    "plt.title('Confusion matrix', fontsize=15)\n",
    "plt.tight_layout()"
   ],
   "id": "6af78fea4f5e17",
   "outputs": [
    {
     "data": {
      "text/plain": [
       "<Figure size 640x480 with 2 Axes>"
      ],
      "image/png": "[encoded data removed]"
     },
     "metadata": {},
     "output_type": "display_data"
    }
   ],
   "execution_count": 58
  },
  {
   "metadata": {},
   "cell_type": "markdown",
   "source": [
    "The updated confusion matrix reflects the impact of adjusting the classification threshold. The model now identifies more negative samples correctly, with 108 True Negatives (up from 82), but this comes at the cost of slightly fewer True Positives, now 259 (down from 294).\n",
    "\n",
    "This trade-off indicates a shift in the model's decision boundary, reducing False Positives while increasing False Negatives. This adjustment prioritizes correctly identifying negative samples but slightly decreases the detection of positive ones.\n",
    "\n",
    "Such changes may be beneficial depending on the specific goals of the task. If reducing False Positives is more critical, this threshold adjustment is an improvement; however, if minimizing False Negatives is crucial, further optimization might be necessary."
   ],
   "id": "62040d0a264ac67b"
  },
  {
   "metadata": {},
   "cell_type": "markdown",
   "source": "### Sample sentences to test",
   "id": "592cd4e7edafcf8"
  },
  {
   "metadata": {
    "ExecuteTime": {
     "end_time": "2025-01-04T22:21:37.517015Z",
     "start_time": "2025-01-04T22:21:37.292510Z"
    }
   },
   "cell_type": "code",
   "source": [
    "# sample sentences in Spanish (some correct, some grammatically incorrect)\n",
    "test_sentences = [\n",
    "    (\"Él están contento.\", 0),  # Incorrect\n",
    "    (\"Soy feliz porque tengo una familia maravillosa y espléndida.\", 1),  # Correct\n",
    "    (\"Todo lo días está soleado.\", 0),  # Incorrect\n",
    "    (\"¿Qué has hecho hoy?\", 1),  # Correct\n",
    "    (\"Nosotros tengo hambre.\", 0),  # Inorrect\n",
    "    (\"Tu tener un carro rojo.\", 0),  # Incorrect\n",
    "    (\"Los niño juegan en la parque.\", 0),  # Incorrect\n",
    "    (\"Es bueno estudiar para aprender más.\", 1),  # Correct\n",
    "    (\"Juan y Pedro estudia para el examen.\", 0),  # Incorrect\n",
    "    (\"¿Por qué no vienes a la fiesta mañana?\", 1)  # Correct\n",
    "]\n",
    "\n",
    "\n",
    "test_sentences_with_tokens = [\"[CLS] \" + sentence[0] + \" [SEP]\" for sentence in test_sentences]\n",
    "test_tokenized_sentences = [tokenizer.tokenize(sentence) for sentence in test_sentences_with_tokens]\n",
    "test_token_ids = tokenizer(test_sentences_with_tokens, padding=\"max_length\", truncation=True, max_length=128, return_tensors=\"pt\")\n",
    "test_attention_masks = test_token_ids[\"attention_mask\"]\n",
    "\n",
    "test_input_ids = test_token_ids[\"input_ids\"].to(device)\n",
    "test_attention_masks = test_attention_masks.to(device)\n",
    "\n",
    "model.eval()\n",
    "with torch.no_grad():\n",
    "    outputs = model(test_input_ids, attention_mask=test_attention_masks)\n",
    "    logits = outputs.logits\n",
    "\n",
    "probs = torch.softmax(logits.clone().detach().cpu(), dim=1).numpy()\n",
    "predictions = (probs[:, 1] > new_threshold).astype(int)\n",
    "\n",
    "# display the sentences along with the model's predictions\n",
    "for i, sentence in enumerate(test_sentences):\n",
    "    print(f\"Sentence: {sentence}\")\n",
    "    print(f\"    Actual: {test_sentences[i][1]}, Predicted: {predictions[i]}, with a probability of {probs[i, predictions[i]]:.4f}\")"
   ],
   "id": "ff2590e67a847579",
   "outputs": [
    {
     "name": "stdout",
     "output_type": "stream",
     "text": [
      "Sentence: ('Él están contento.', 0)\n",
      "    Actual: 0, Predicted: 0, with a probability of 0.9959\n",
      "Sentence: ('Soy feliz porque tengo una familia maravillosa y espléndida.', 1)\n",
      "    Actual: 1, Predicted: 1, with a probability of 0.9988\n",
      "Sentence: ('Todo lo días está soleado.', 0)\n",
      "    Actual: 0, Predicted: 1, with a probability of 0.9945\n",
      "Sentence: ('¿Qué has hecho hoy?', 1)\n",
      "    Actual: 1, Predicted: 1, with a probability of 0.9989\n",
      "Sentence: ('Nosotros tengo hambre.', 0)\n",
      "    Actual: 0, Predicted: 0, with a probability of 0.9949\n",
      "Sentence: ('Tu tener un carro rojo.', 0)\n",
      "    Actual: 0, Predicted: 0, with a probability of 0.9983\n",
      "Sentence: ('Los niño juegan en la parque.', 0)\n",
      "    Actual: 0, Predicted: 0, with a probability of 0.9974\n",
      "Sentence: ('Es bueno estudiar para aprender más.', 1)\n",
      "    Actual: 1, Predicted: 1, with a probability of 0.9981\n",
      "Sentence: ('Juan y Pedro estudia para el examen.', 0)\n",
      "    Actual: 0, Predicted: 0, with a probability of 0.9961\n",
      "Sentence: ('¿Por qué no vienes a la fiesta mañana?', 1)\n",
      "    Actual: 1, Predicted: 1, with a probability of 0.9985\n"
     ]
    }
   ],
   "execution_count": 76
  }
 ],
 "metadata": {
  "kernelspec": {
   "display_name": "Python 3",
   "language": "python",
   "name": "python3"
  },
  "language_info": {
   "codemirror_mode": {
    "name": "ipython",
    "version": 2
   },
   "file_extension": ".py",
   "mimetype": "text/x-python",
   "name": "python",
   "nbconvert_exporter": "python",
   "pygments_lexer": "ipython2",
   "version": "2.7.6"
  }
 },
 "nbformat": 4,
 "nbformat_minor": 5
}
